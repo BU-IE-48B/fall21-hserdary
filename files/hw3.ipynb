{
 "cells": [
  {
   "cell_type": "markdown",
   "id": "educated-reading",
   "metadata": {},
   "source": [
    "# Comparison of NN Classifiers with Alternative Representations"
   ]
  },
  {
   "cell_type": "markdown",
   "id": "afraid-determination",
   "metadata": {},
   "source": [
    "In this assignment, 5 datasets are selected from [timeseriesclassification](http://www.timeseriesclassification.com/) webpage. Each set will be described under its title. The aim is to built three different representation alternatives _including raw time series observations_ and use four different distance measurements _including euclidean distance_ in nearest neighbor (NN) classification settings in order to find the best fit for each dataset.  \n",
    "  \n",
    "Three different values, (1, 3, 5), will be used as the k value of the NN classification settings. As alternative representation approaches, Nonlinear Regression Tree Representation and Wavelet Transform Representation will be calculated with 2 different parameter sets in addition to Raw Time Series Observations.  \n",
    "  \n",
    "Euclidean distance, manhattan distance, dynamic time warping distance, and edit distance with real penalty (g=0.05) will be used to calculate the similarities between time series representations.  \n",
    "  \n",
    "After the data preparation and manipulation steps, same approaches will be performed for each dataset, therefore, there will be a function defined below in order to make the similar calculations easy. Lastly, all approaches will be evaluated under the cross validation idea with 5-repeats and 10-folds. Hence, the function calculates (3 different k values x 5 representations x 4 distance measures)=60 different approach&parameter combinations by cross vaildation with 5-repeats and 10-folds.   "
   ]
  },
  {
   "cell_type": "markdown",
   "id": "separate-companion",
   "metadata": {},
   "source": [
    " "
   ]
  },
  {
   "cell_type": "markdown",
   "id": "forbidden-flour",
   "metadata": {},
   "source": [
    " "
   ]
  },
  {
   "cell_type": "markdown",
   "id": "lonely-bosnia",
   "metadata": {},
   "source": [
    "# Required Packages & Function Definitions"
   ]
  },
  {
   "cell_type": "code",
   "execution_count": 1,
   "id": "subtle-phrase",
   "metadata": {},
   "outputs": [
    {
     "name": "stderr",
     "output_type": "stream",
     "text": [
      "Warning message:\n",
      "\"package 'farff' was built under R version 3.6.3\"Warning message:\n",
      "\"package 'dtw' was built under R version 3.6.3\"Loading required package: proxy\n",
      "Warning message:\n",
      "\"package 'proxy' was built under R version 3.6.3\"\n",
      "Attaching package: 'proxy'\n",
      "\n",
      "The following objects are masked from 'package:stats':\n",
      "\n",
      "    as.dist, dist\n",
      "\n",
      "The following object is masked from 'package:base':\n",
      "\n",
      "    as.matrix\n",
      "\n",
      "Loaded dtw v1.22-3. See ?dtw for help, citation(\"dtw\") for use in publication.\n",
      "\n",
      "Warning message:\n",
      "\"package 'wavelets' was built under R version 3.6.2\"Warning message:\n",
      "\"package 'TSdist' was built under R version 3.6.3\"Registered S3 method overwritten by 'quantmod':\n",
      "  method            from\n",
      "  as.zoo.data.frame zoo \n",
      "Loaded TSdist v3.7. See ?TSdist for help, citation(\"TSdist\") for use in publication.\n",
      "\n",
      "Warning message:\n",
      "\"package 'TunePareto' was built under R version 3.6.3\""
     ]
    }
   ],
   "source": [
    "library(farff)\n",
    "library(data.table)\n",
    "library(ggplot2)\n",
    "library(rpart)\n",
    "library(dtw)\n",
    "library(wavelets)\n",
    "library(TSdist)\n",
    "library(TunePareto)\n",
    "\n",
    "#for better visualization\n",
    "options(repr.plot.width=8, repr.plot.height=4)"
   ]
  },
  {
   "cell_type": "markdown",
   "id": "backed-oxide",
   "metadata": {},
   "source": [
    "### Raw Time Series Representation"
   ]
  },
  {
   "cell_type": "markdown",
   "id": "adjacent-stevens",
   "metadata": {},
   "source": [
    "This function takes the dataset and converts it to the matrix of raw time series observations.  "
   ]
  },
  {
   "cell_type": "code",
   "execution_count": 2,
   "id": "latter-climb",
   "metadata": {},
   "outputs": [],
   "source": [
    "rawReprFunc <- function(givenTable) {\n",
    "    myTable <- copy(givenTable)\n",
    "    maxID <- as.numeric(myTable[which.max(myTable$id)]$id)\n",
    "    maxTime <- as.numeric(myTable[which.max(myTable$time)]$time)\n",
    "    \n",
    "    myMatrix <- matrix(myTable$value, nrow=maxID, ncol=maxTime, byrow=T)\n",
    "    return(myMatrix) \n",
    "}"
   ]
  },
  {
   "cell_type": "markdown",
   "id": "lightweight-gentleman",
   "metadata": {},
   "source": [
    "### Nonlinear Regression Tree Representation"
   ]
  },
  {
   "cell_type": "markdown",
   "id": "adverse-pregnancy",
   "metadata": {},
   "source": [
    "This function takes the dataset and converts it to the matrix of nonlinear regression tree representation.  "
   ]
  },
  {
   "cell_type": "code",
   "execution_count": 3,
   "id": "absolute-singapore",
   "metadata": {},
   "outputs": [],
   "source": [
    "nltreeReprFunc <- function(givenTable, maxDepth) {\n",
    "    myTable <- copy(givenTable)\n",
    "    maxID <- as.numeric(myTable[which.max(myTable$id)]$id)\n",
    "    maxTime <- as.numeric(myTable[which.max(myTable$time)]$time)\n",
    "    \n",
    "    for (i in (1:maxID)) {\n",
    "        treeFit <- rpart(value~time+time^2+time^3, myTable[id==i],\n",
    "                         control=rpart.control(maxdepth=maxDepth, cp=0, minsplit=20, minbucket=10))\n",
    "        myTable[id==i, treeRep:=predict(treeFit, myTable[id==i])]\n",
    "    }\n",
    "    \n",
    "    myMatrix <- matrix(myTable$treeRep, nrow=maxID, ncol=maxTime, byrow=T)\n",
    "    return(myMatrix)\n",
    "}"
   ]
  },
  {
   "cell_type": "markdown",
   "id": "brown-summit",
   "metadata": {},
   "source": [
    "### Wavelet Transform Representation"
   ]
  },
  {
   "cell_type": "markdown",
   "id": "motivated-husband",
   "metadata": {},
   "source": [
    "This function takes the dataset and converts it to the matrix of wavelet transform representation.  "
   ]
  },
  {
   "cell_type": "code",
   "execution_count": 4,
   "id": "sublime-insured",
   "metadata": {},
   "outputs": [],
   "source": [
    "haarWaveletReprFunc <- function(givenTable, givenMethod) {\n",
    "    myTable <- copy(givenTable)\n",
    "    maxID <- as.numeric(myTable[which.max(myTable$id)]$id)\n",
    "    maxTime <- as.numeric(myTable[which.max(myTable$time)]$time)\n",
    "    reprValuesVec <- numeric(0)\n",
    "    \n",
    "    for (i in (1:maxID)) {\n",
    "        dwtObject <- dwt(myTable[id==i]$value, filter=givenMethod)\n",
    "        tempValues <- dwtObject@V[[1]]\n",
    "        reprValuesVec <- c(reprValuesVec, tempValues)\n",
    "    }\n",
    "    \n",
    "    myMatrix <- matrix(reprValuesVec, nrow=maxID, ncol=maxTime/2, byrow=T)\n",
    "    return(myMatrix) \n",
    "}"
   ]
  },
  {
   "cell_type": "markdown",
   "id": "hairy-creek",
   "metadata": {},
   "source": [
    "### kNN Nearest Neighbor Calculator"
   ]
  },
  {
   "cell_type": "markdown",
   "id": "roman-facial",
   "metadata": {},
   "source": [
    "Below, two functions are definded to find the k-NN predictions of given representation matrices. getmode() function simply returns the mode value of a vector. kNNCalculator() makes the calculations for the nearest neighbor and returns k-NN predictions as a vector.  "
   ]
  },
  {
   "cell_type": "code",
   "execution_count": 5,
   "id": "cardiovascular-processing",
   "metadata": {},
   "outputs": [],
   "source": [
    "getmode <- function(v) {\n",
    "    uniqv <- unique(v)\n",
    "    uniqv[which.max(tabulate(match(v, uniqv)))]\n",
    "}\n",
    "\n",
    "kNNCalculator <- function(classVector, distMatrix, k, testIndices)  {\n",
    "    KNN_neighborhood <- apply(distMatrix, 1, order) \n",
    "    KNN_neighborhood <- KNN_neighborhood[, testIndices]\n",
    "    tempSplit <- split(classVector[KNN_neighborhood[1:k,]], ceiling(seq_along(classVector[KNN_neighborhood[1:k,]])/k))\n",
    "    KNN_pred <- sapply(tempSplit, getmode)\n",
    "    return(KNN_pred)\n",
    "}"
   ]
  },
  {
   "cell_type": "markdown",
   "id": "independent-square",
   "metadata": {},
   "source": [
    "### Distance Measurements"
   ]
  },
  {
   "cell_type": "markdown",
   "id": "median-server",
   "metadata": {},
   "source": [
    "These four functions take the representation matrices and calculate the difference between the instances by using euclidean distance, manhattan distance, dynamic time warping distance, and edit distance with real penalty respectively.  "
   ]
  },
  {
   "cell_type": "code",
   "execution_count": 6,
   "id": "radical-tuition",
   "metadata": {},
   "outputs": [],
   "source": [
    "eucDistMatrix <- function(reprMatrix) {\n",
    "    large_number <- 9999\n",
    "    eucDist <- as.matrix(dist(reprMatrix))\n",
    "    diag(eucDist) <- large_number\n",
    "    return(eucDist)\n",
    "}\n",
    "\n",
    "manhattanDistMatrix <- function(reprMatrix) { \n",
    "    large_number <- 9999\n",
    "    manhDist <- as.matrix(dist(reprMatrix, method=\"manhattan\"))\n",
    "    diag(manhDist) <- large_number\n",
    "    return(manhDist)\n",
    "}\n",
    "\n",
    "dtwDistMatrix <- function(reprMatrix) {\n",
    "    large_number <- 9999\n",
    "    dtwDist <- as.matrix(dtwDist(reprMatrix))\n",
    "    diag(dtwDist) <- large_number\n",
    "    return(dtwDist)\n",
    "}\n",
    "\n",
    "erpDistMatrix <- function(reprMatrix) {\n",
    "    large_number <- 9999\n",
    "    erpDist <- as.matrix(TSDatabaseDistances(reprMatrix, distance='erp', g=0.05))\n",
    "    diag(erpDist) <- large_number\n",
    "    return(erpDist)\n",
    "}"
   ]
  },
  {
   "cell_type": "markdown",
   "id": "scheduled-bumper",
   "metadata": {},
   "source": [
    "### Accuracy Row Calculator"
   ]
  },
  {
   "cell_type": "markdown",
   "id": "interim-marine",
   "metadata": {},
   "source": [
    "The intended job for accRowCalculator() is simply returning the accuracy values of each approach as a data table row. The function calls kNNCalculator() function from above in order to get the class predictions. Then, it evaluates the accuracy value.  "
   ]
  },
  {
   "cell_type": "code",
   "execution_count": 7,
   "id": "indirect-hotel",
   "metadata": {},
   "outputs": [],
   "source": [
    "accRowCalculator <- function(rep, fold, kValue, actualClasses, distMatrix, reprName, p, distName, testIndices) {\n",
    "    preds <- kNNCalculator(actualClasses, distMatrix, kValue, testIndices)    \n",
    "    acc <- sum(preds==actualClasses[testIndices])/length(actualClasses[testIndices])\n",
    "    return(data.table(rep=rep, fold=fold, kNNValue=kValue, representation=reprName, parameter=p, dist=distName, acc=acc))\n",
    "}"
   ]
  },
  {
   "cell_type": "markdown",
   "id": "golden-theta",
   "metadata": {},
   "source": [
    "### The Function that Compares Different Methods by Using Different k Parameter Values and Cross Validation"
   ]
  },
  {
   "cell_type": "markdown",
   "id": "gothic-aviation",
   "metadata": {},
   "source": [
    "This function will be called whenever all the approaches discussed above are performed over a dataset. It does all the job itself by using all the functions defined above.  \n",
    "  \n",
    "The steps for the functions are:  \n",
    "* Find the raw time series observations representation and calculate its distance measurements.  \n",
    "* Find the nonlinear regression tree representation with maxDepth=6 and calculate its distance measurements.  \n",
    "* Find the nonlinear regression tree representation with maxDepth=12 and calculate its distance measurements.  \n",
    "* Find the discrete wavelet transform representation with filter=\"haar\" and calculate its distance measurements.  \n",
    "* Find the discrete wavelet transform representation with filter=\"la8\" and calculate its distance measurements.  \n",
    "* Calculate the accuracy value for each approach over 10-folds, 5-repeats, and 3 different k values.  \n",
    "* Return the statistics as a data table.  "
   ]
  },
  {
   "cell_type": "code",
   "execution_count": 8,
   "id": "supreme-attraction",
   "metadata": {},
   "outputs": [],
   "source": [
    "alternativeComparisonFunc <- function(kVector, dataTable, actualClasses, cvList, nofRep, nofFold) {\n",
    "    myDT <- copy(dataTable)\n",
    "    solutionTable <- data.table(rep=NA, fold=NA, kNNValue=NA, representation=NA, parameter=NA, dist=NA, acc=NA)\n",
    "\n",
    "    #Raw Representation & Distance Measurements\n",
    "    rawRepr <- rawReprFunc(myDT) \n",
    "    eucMatrixRaw <- eucDistMatrix(rawRepr)\n",
    "    manhMatrixRaw <- manhattanDistMatrix(rawRepr)\n",
    "    dtwMatrixRaw <- dtwDistMatrix(rawRepr)\n",
    "    erpMatrixRaw <- erpDistMatrix(rawRepr)    \n",
    "    #Nonlinear Regression Tree Representation & Distance Measurements\n",
    "    treeRepr1 <- nltreeReprFunc(myDT, 6)\n",
    "    treeRepr2 <- nltreeReprFunc(myDT, 12)\n",
    "    eucMatrixTree1 <- eucDistMatrix(treeRepr1)\n",
    "    eucMatrixTree2 <- eucDistMatrix(treeRepr2)\n",
    "    manhMatrixTree1 <- manhattanDistMatrix(treeRepr1)\n",
    "    manhMatrixTree2 <- manhattanDistMatrix(treeRepr2)\n",
    "    dtwMatrixTree1 <- dtwDistMatrix(treeRepr1)\n",
    "    dtwMatrixTree2 <- dtwDistMatrix(treeRepr2)\n",
    "    erpMatrixTree1 <- erpDistMatrix(treeRepr1)    \n",
    "    erpMatrixTree2 <- erpDistMatrix(treeRepr2)     \n",
    "    #Discrete Wavelet Transform Representation & Distance Measurements\n",
    "    dwtRepr1 <- haarWaveletReprFunc(myDT, \"haar\")\n",
    "    dwtRepr2 <- haarWaveletReprFunc(myDT, \"la8\")\n",
    "    eucMatrixDwt1 <- eucDistMatrix(dwtRepr1)\n",
    "    eucMatrixDwt2 <- eucDistMatrix(dwtRepr2)\n",
    "    manhMatrixDwt1 <- manhattanDistMatrix(dwtRepr1)\n",
    "    manhMatrixDwt2 <- manhattanDistMatrix(dwtRepr2)\n",
    "    dtwMatrixDwt1 <- dtwDistMatrix(dwtRepr1)\n",
    "    dtwMatrixDwt2 <- dtwDistMatrix(dwtRepr2)\n",
    "    erpMatrixDwt1 <- erpDistMatrix(dwtRepr1) \n",
    "    erpMatrixDwt2 <- erpDistMatrix(dwtRepr2) \n",
    "\n",
    "    \n",
    "    for (k in kVector) {\n",
    "        for (i in 1:nofRep){\n",
    "            thisRepetition <- cvList[[i]]\n",
    "            for (j in 1:nofFold) {\n",
    "                testIndices <- thisRepetition[[j]]\n",
    "        \n",
    "                ## For Raw Representation\n",
    "                #euclidan\n",
    "                tempRow <- accRowCalculator(i, j, k, actualClasses, eucMatrixRaw, \"raw\", NA, \"euc\", testIndices)\n",
    "                solutionTable <- rbind(solutionTable, tempRow)   \n",
    "                #manhattan\n",
    "                tempRow <- accRowCalculator(i, j, k, actualClasses, manhMatrixRaw, \"raw\", NA, \"manh\", testIndices)\n",
    "                solutionTable <- rbind(solutionTable, tempRow) \n",
    "                #dtw\n",
    "                tempRow <- accRowCalculator(i, j, k, actualClasses, dtwMatrixRaw, \"raw\", NA, \"dtw\", testIndices)\n",
    "                solutionTable <- rbind(solutionTable, tempRow)\n",
    "                #erp\n",
    "                tempRow <- accRowCalculator(i, j, k, actualClasses, erpMatrixRaw, \"raw\", NA, \"erp\", testIndices)\n",
    "                solutionTable <- rbind(solutionTable, tempRow)\n",
    "                ## For Nonlinear Tree Representation\n",
    "                #euclidan\n",
    "                tempRow <- accRowCalculator(i, j, k, actualClasses, eucMatrixTree1, \"tree\", \"6\", \"euc\", testIndices)\n",
    "                solutionTable <- rbind(solutionTable, tempRow)\n",
    "                tempRow <- accRowCalculator(i, j, k, actualClasses, eucMatrixTree2, \"tree\", \"12\", \"euc\", testIndices)\n",
    "                solutionTable <- rbind(solutionTable, tempRow)\n",
    "                #manhattan\n",
    "                tempRow <- accRowCalculator(i, j, k, actualClasses, manhMatrixTree1, \"tree\", \"6\", \"manh\", testIndices)\n",
    "                solutionTable <- rbind(solutionTable, tempRow)\n",
    "                tempRow <- accRowCalculator(i, j, k, actualClasses, manhMatrixTree2, \"tree\", \"12\", \"manh\", testIndices)\n",
    "                solutionTable <- rbind(solutionTable, tempRow)\n",
    "                #dtw\n",
    "                tempRow <- accRowCalculator(i, j, k, actualClasses, dtwMatrixTree1, \"tree\", \"6\", \"dtw\", testIndices)\n",
    "                solutionTable <- rbind(solutionTable, tempRow)\n",
    "                tempRow <- accRowCalculator(i, j, k, actualClasses, dtwMatrixTree2, \"tree\", \"12\", \"dtw\", testIndices)\n",
    "                solutionTable <- rbind(solutionTable, tempRow)\n",
    "                #erp\n",
    "                tempRow <- accRowCalculator(i, j, k, actualClasses, erpMatrixTree1, \"tree\", \"6\", \"erp\", testIndices)\n",
    "                solutionTable <- rbind(solutionTable, tempRow)\n",
    "                tempRow <- accRowCalculator(i, j, k, actualClasses, erpMatrixTree2, \"tree\", \"12\", \"erp\", testIndices)\n",
    "                solutionTable <- rbind(solutionTable, tempRow)\n",
    "        \n",
    "                #For Discrete Wavelet Transform Representation\n",
    "                #euclidan\n",
    "                tempRow <- accRowCalculator(i, j, k, actualClasses, eucMatrixDwt1, \"dwt\", \"haar\", \"euc\", testIndices)\n",
    "                solutionTable <- rbind(solutionTable, tempRow)\n",
    "                tempRow <- accRowCalculator(i, j, k, actualClasses, eucMatrixDwt2, \"dwt\", \"la8\", \"euc\", testIndices)\n",
    "                solutionTable <- rbind(solutionTable, tempRow)\n",
    "                #manhattan\n",
    "                tempRow <- accRowCalculator(i, j, k, actualClasses, manhMatrixDwt1, \"dwt\", \"haar\", \"manh\", testIndices)\n",
    "                solutionTable <- rbind(solutionTable, tempRow)\n",
    "                tempRow <- accRowCalculator(i, j, k, actualClasses, manhMatrixDwt2, \"dwt\", \"la8\", \"manh\", testIndices)\n",
    "                solutionTable <- rbind(solutionTable, tempRow)\n",
    "                #dtw\n",
    "                tempRow <- accRowCalculator(i, j, k, actualClasses, dtwMatrixDwt1, \"dwt\", \"haar\", \"dtw\", testIndices)\n",
    "                solutionTable <- rbind(solutionTable, tempRow)\n",
    "                tempRow <- accRowCalculator(i, j, k, actualClasses, dtwMatrixDwt2, \"dwt\", \"la8\", \"dtw\", testIndices)\n",
    "                solutionTable <- rbind(solutionTable, tempRow)\n",
    "                #erp\n",
    "                tempRow <- accRowCalculator(i, j, k, actualClasses, erpMatrixDwt1, \"dwt\", \"haar\", \"erp\", testIndices)\n",
    "                solutionTable <- rbind(solutionTable, tempRow)\n",
    "                tempRow <- accRowCalculator(i, j, k, actualClasses, erpMatrixDwt2, \"dwt\", \"la8\", \"erp\", testIndices)\n",
    "                solutionTable <- rbind(solutionTable, tempRow)\n",
    "            }\n",
    "        }\n",
    "    }\n",
    "    \n",
    "    solutionTable <- solutionTable[-1]\n",
    "    solutionTable <- solutionTable[, list(meanACC=mean(acc), sdACC=sd(acc)), by=list(kNNValue, representation, parameter, dist)]    \n",
    "    return(solutionTable)\n",
    "}"
   ]
  },
  {
   "cell_type": "markdown",
   "id": "heard-pregnancy",
   "metadata": {},
   "source": [
    " "
   ]
  },
  {
   "cell_type": "markdown",
   "id": "premium-wrapping",
   "metadata": {},
   "source": [
    " "
   ]
  },
  {
   "cell_type": "markdown",
   "id": "secure-induction",
   "metadata": {},
   "source": [
    "# Dataset #1  |  GunPointMaleVersusFemale Set"
   ]
  },
  {
   "cell_type": "markdown",
   "id": "international-proceeding",
   "metadata": {},
   "source": [
    "There were two actors who hold a gun and point the gun at target in five seconds. Their actions were translated into time series as coordinate information. The task is to classify female (class 1) and male (class 2). Training data has 135 instances with time series length of 150.  "
   ]
  },
  {
   "cell_type": "code",
   "execution_count": 9,
   "id": "associate-purse",
   "metadata": {},
   "outputs": [
    {
     "data": {
      "text/html": [
       "<table>\n",
       "<thead><tr><th scope=col>id</th><th scope=col>class</th><th scope=col>time</th><th scope=col>value</th></tr></thead>\n",
       "<tbody>\n",
       "\t<tr><td>1       </td><td>1       </td><td>1       </td><td>333.2450</td></tr>\n",
       "\t<tr><td>1       </td><td>1       </td><td>2       </td><td>333.3123</td></tr>\n",
       "\t<tr><td>1       </td><td>1       </td><td>3       </td><td>333.1444</td></tr>\n",
       "\t<tr><td>1       </td><td>1       </td><td>4       </td><td>333.2401</td></tr>\n",
       "\t<tr><td>1       </td><td>1       </td><td>5       </td><td>333.2588</td></tr>\n",
       "\t<tr><td>1       </td><td>1       </td><td>6       </td><td>333.2529</td></tr>\n",
       "</tbody>\n",
       "</table>\n"
      ],
      "text/latex": [
       "\\begin{tabular}{r|llll}\n",
       " id & class & time & value\\\\\n",
       "\\hline\n",
       "\t 1        & 1        & 1        & 333.2450\\\\\n",
       "\t 1        & 1        & 2        & 333.3123\\\\\n",
       "\t 1        & 1        & 3        & 333.1444\\\\\n",
       "\t 1        & 1        & 4        & 333.2401\\\\\n",
       "\t 1        & 1        & 5        & 333.2588\\\\\n",
       "\t 1        & 1        & 6        & 333.2529\\\\\n",
       "\\end{tabular}\n"
      ],
      "text/markdown": [
       "\n",
       "| id | class | time | value |\n",
       "|---|---|---|---|\n",
       "| 1        | 1        | 1        | 333.2450 |\n",
       "| 1        | 1        | 2        | 333.3123 |\n",
       "| 1        | 1        | 3        | 333.1444 |\n",
       "| 1        | 1        | 4        | 333.2401 |\n",
       "| 1        | 1        | 5        | 333.2588 |\n",
       "| 1        | 1        | 6        | 333.2529 |\n",
       "\n"
      ],
      "text/plain": [
       "  id class time value   \n",
       "1 1  1     1    333.2450\n",
       "2 1  1     2    333.3123\n",
       "3 1  1     3    333.1444\n",
       "4 1  1     4    333.2401\n",
       "5 1  1     5    333.2588\n",
       "6 1  1     6    333.2529"
      ]
     },
     "metadata": {},
     "output_type": "display_data"
    }
   ],
   "source": [
    "dt1 <- fread(\"GunPointMaleVersusFemale_TRAIN.txt\")\n",
    "setnames(dt1, \"V1\", \"class\")\n",
    "dt1 <- dt1[order(class)]\n",
    "dt1[, class:=as.character(class)]\n",
    "dt1[, id:=as.character(1:.N)]\n",
    "\n",
    "#melting operations\n",
    "dt1_long <- melt(dt1, id.vars=c(\"id\", \"class\"))\n",
    "dt1_long[, time:=as.numeric(gsub(\"\\\\D\", \"\", variable))-1]\n",
    "dt1_long <- dt1_long[, list(id,class,time,value)]\n",
    "dt1_long <- dt1_long[order(id,time)]\n",
    "\n",
    "#actual classes\n",
    "dt1_classes <- dt1$class\n",
    "\n",
    "head(dt1_long)"
   ]
  },
  {
   "cell_type": "code",
   "execution_count": 10,
   "id": "alien-ideal",
   "metadata": {},
   "outputs": [
    {
     "data": {
      "image/png": "[encoded data removed]",
      "text/plain": [
       "plot without title"
      ]
     },
     "metadata": {},
     "output_type": "display_data"
    }
   ],
   "source": [
    "ggplot(dt1_long, aes(time, value)) + geom_line(aes(color=id)) + facet_grid(class~.) + theme(legend.position=\"none\") + \n",
    "    labs(title=\"GunPointMaleVersusFemale Training Set\")"
   ]
  },
  {
   "cell_type": "markdown",
   "id": "fiscal-fetish",
   "metadata": {},
   "source": [
    "Because the instances of class 1 are not aligned over y axis, the mean values will be subtracted from each instance before running the algorithm. "
   ]
  },
  {
   "cell_type": "code",
   "execution_count": 11,
   "id": "nonprofit-registrar",
   "metadata": {},
   "outputs": [
    {
     "data": {
      "image/png": "[encoded data removed]",
      "text/plain": [
       "plot without title"
      ]
     },
     "metadata": {},
     "output_type": "display_data"
    }
   ],
   "source": [
    "dt1_long[, newValue:=value-mean(value), by=id]\n",
    "\n",
    "ggplot(dt1_long, aes(time, newValue)) + geom_line(aes(color=id)) + facet_grid(class~.) + theme(legend.position=\"none\") + \n",
    "    labs(title=\"Mean Subtracted GunPointMaleVersusFemale Training Set\")"
   ]
  },
  {
   "cell_type": "markdown",
   "id": "blank-irrigation",
   "metadata": {},
   "source": [
    "Now, it looks better. But there is one more thing before starting. The algorithm needs \"value\" as the name of column of observations, therefore, \"newValue\" will be changed to \"value\".  "
   ]
  },
  {
   "cell_type": "code",
   "execution_count": 12,
   "id": "saved-disposition",
   "metadata": {},
   "outputs": [
    {
     "data": {
      "text/html": [
       "<table>\n",
       "<thead><tr><th scope=col>id</th><th scope=col>class</th><th scope=col>time</th><th scope=col>value</th></tr></thead>\n",
       "<tbody>\n",
       "\t<tr><td>1        </td><td>1        </td><td>1        </td><td>-56.43402</td></tr>\n",
       "\t<tr><td>1        </td><td>1        </td><td>2        </td><td>-56.36668</td></tr>\n",
       "\t<tr><td>1        </td><td>1        </td><td>3        </td><td>-56.53454</td></tr>\n",
       "\t<tr><td>1        </td><td>1        </td><td>4        </td><td>-56.43887</td></tr>\n",
       "\t<tr><td>1        </td><td>1        </td><td>5        </td><td>-56.42018</td></tr>\n",
       "\t<tr><td>1        </td><td>1        </td><td>6        </td><td>-56.42604</td></tr>\n",
       "</tbody>\n",
       "</table>\n"
      ],
      "text/latex": [
       "\\begin{tabular}{r|llll}\n",
       " id & class & time & value\\\\\n",
       "\\hline\n",
       "\t 1         & 1         & 1         & -56.43402\\\\\n",
       "\t 1         & 1         & 2         & -56.36668\\\\\n",
       "\t 1         & 1         & 3         & -56.53454\\\\\n",
       "\t 1         & 1         & 4         & -56.43887\\\\\n",
       "\t 1         & 1         & 5         & -56.42018\\\\\n",
       "\t 1         & 1         & 6         & -56.42604\\\\\n",
       "\\end{tabular}\n"
      ],
      "text/markdown": [
       "\n",
       "| id | class | time | value |\n",
       "|---|---|---|---|\n",
       "| 1         | 1         | 1         | -56.43402 |\n",
       "| 1         | 1         | 2         | -56.36668 |\n",
       "| 1         | 1         | 3         | -56.53454 |\n",
       "| 1         | 1         | 4         | -56.43887 |\n",
       "| 1         | 1         | 5         | -56.42018 |\n",
       "| 1         | 1         | 6         | -56.42604 |\n",
       "\n"
      ],
      "text/plain": [
       "  id class time value    \n",
       "1 1  1     1    -56.43402\n",
       "2 1  1     2    -56.36668\n",
       "3 1  1     3    -56.53454\n",
       "4 1  1     4    -56.43887\n",
       "5 1  1     5    -56.42018\n",
       "6 1  1     6    -56.42604"
      ]
     },
     "metadata": {},
     "output_type": "display_data"
    }
   ],
   "source": [
    "dt1_long[, value:=NULL]\n",
    "setnames(dt1_long, \"newValue\", \"value\")\n",
    "head(dt1_long)"
   ]
  },
  {
   "cell_type": "code",
   "execution_count": 13,
   "id": "rational-harvest",
   "metadata": {},
   "outputs": [],
   "source": [
    "#creating CV indices\n",
    "set.seed(48)\n",
    "kVector <- c(1,3,5)\n",
    "nof_rep <- 5\n",
    "n_fold <- 10\n",
    "\n",
    "cv_indices1 <- generateCVRuns(dt1_classes, ntimes=nof_rep, nfold=n_fold,\n",
    "                              leaveOneOut=FALSE, stratified=TRUE)"
   ]
  },
  {
   "cell_type": "code",
   "execution_count": 14,
   "id": "matched-store",
   "metadata": {},
   "outputs": [
    {
     "data": {
      "text/html": [
       "<table>\n",
       "<thead><tr><th scope=col>kNNValue</th><th scope=col>representation</th><th scope=col>parameter</th><th scope=col>dist</th><th scope=col>meanACC</th><th scope=col>sdACC</th></tr></thead>\n",
       "<tbody>\n",
       "\t<tr><td>1         </td><td>dwt       </td><td>haar      </td><td>euc       </td><td>1.0000000 </td><td>0.00000000</td></tr>\n",
       "\t<tr><td>1         </td><td>dwt       </td><td>la8       </td><td>euc       </td><td>1.0000000 </td><td>0.00000000</td></tr>\n",
       "\t<tr><td>1         </td><td>dwt       </td><td>haar      </td><td>manh      </td><td>1.0000000 </td><td>0.00000000</td></tr>\n",
       "\t<tr><td>1         </td><td>dwt       </td><td>la8       </td><td>manh      </td><td>1.0000000 </td><td>0.00000000</td></tr>\n",
       "\t<tr><td>1         </td><td>dwt       </td><td>haar      </td><td>dtw       </td><td>1.0000000 </td><td>0.00000000</td></tr>\n",
       "\t<tr><td>1         </td><td>dwt       </td><td>la8       </td><td>dtw       </td><td>1.0000000 </td><td>0.00000000</td></tr>\n",
       "\t<tr><td>1         </td><td>dwt       </td><td>haar      </td><td>erp       </td><td>1.0000000 </td><td>0.00000000</td></tr>\n",
       "\t<tr><td>1         </td><td>dwt       </td><td>la8       </td><td>erp       </td><td>1.0000000 </td><td>0.00000000</td></tr>\n",
       "\t<tr><td>3         </td><td>dwt       </td><td>haar      </td><td>dtw       </td><td>1.0000000 </td><td>0.00000000</td></tr>\n",
       "\t<tr><td>3         </td><td>dwt       </td><td>la8       </td><td>dtw       </td><td>1.0000000 </td><td>0.00000000</td></tr>\n",
       "\t<tr><td>5         </td><td>dwt       </td><td>haar      </td><td>dtw       </td><td>1.0000000 </td><td>0.00000000</td></tr>\n",
       "\t<tr><td>5         </td><td>dwt       </td><td>la8       </td><td>dtw       </td><td>1.0000000 </td><td>0.00000000</td></tr>\n",
       "\t<tr><td>3         </td><td>dwt       </td><td>haar      </td><td>erp       </td><td>0.9927473 </td><td>0.02199035</td></tr>\n",
       "\t<tr><td>3         </td><td>dwt       </td><td>la8       </td><td>erp       </td><td>0.9927473 </td><td>0.02199035</td></tr>\n",
       "\t<tr><td>5         </td><td>dwt       </td><td>haar      </td><td>erp       </td><td>0.9927473 </td><td>0.02199035</td></tr>\n",
       "\t<tr><td>5         </td><td>dwt       </td><td>la8       </td><td>erp       </td><td>0.9927473 </td><td>0.02199035</td></tr>\n",
       "\t<tr><td>3         </td><td>dwt       </td><td>haar      </td><td>manh      </td><td>0.9926374 </td><td>0.02232872</td></tr>\n",
       "\t<tr><td>3         </td><td>dwt       </td><td>la8       </td><td>manh      </td><td>0.9926374 </td><td>0.02232872</td></tr>\n",
       "\t<tr><td>5         </td><td>dwt       </td><td>haar      </td><td>manh      </td><td>0.9926374 </td><td>0.02232872</td></tr>\n",
       "\t<tr><td>5         </td><td>dwt       </td><td>la8       </td><td>manh      </td><td>0.9926374 </td><td>0.02232872</td></tr>\n",
       "\t<tr><td>3         </td><td>dwt       </td><td>haar      </td><td>euc       </td><td>0.9626374 </td><td>0.05068723</td></tr>\n",
       "\t<tr><td>3         </td><td>dwt       </td><td>la8       </td><td>euc       </td><td>0.9626374 </td><td>0.05068723</td></tr>\n",
       "\t<tr><td>5         </td><td>dwt       </td><td>haar      </td><td>euc       </td><td>0.9626374 </td><td>0.05068723</td></tr>\n",
       "\t<tr><td>5         </td><td>dwt       </td><td>la8       </td><td>euc       </td><td>0.9626374 </td><td>0.05068723</td></tr>\n",
       "\t<tr><td>1         </td><td>raw       </td><td>NA        </td><td>dtw       </td><td>0.5556044 </td><td>0.13620567</td></tr>\n",
       "\t<tr><td>5         </td><td>tree      </td><td>6         </td><td>manh      </td><td>0.5412088 </td><td>0.12488643</td></tr>\n",
       "\t<tr><td>5         </td><td>tree      </td><td>12        </td><td>manh      </td><td>0.5412088 </td><td>0.12488643</td></tr>\n",
       "\t<tr><td>5         </td><td>raw       </td><td>NA        </td><td>erp       </td><td>0.5407692 </td><td>0.11836094</td></tr>\n",
       "\t<tr><td>5         </td><td>tree      </td><td>6         </td><td>dtw       </td><td>0.5339560 </td><td>0.13361190</td></tr>\n",
       "\t<tr><td>5         </td><td>tree      </td><td>12        </td><td>dtw       </td><td>0.5339560 </td><td>0.13361190</td></tr>\n",
       "\t<tr><td>5         </td><td>tree      </td><td>6         </td><td>erp       </td><td>0.5332967 </td><td>0.10801501</td></tr>\n",
       "\t<tr><td>5         </td><td>tree      </td><td>12        </td><td>erp       </td><td>0.5332967 </td><td>0.10801501</td></tr>\n",
       "\t<tr><td>3         </td><td>tree      </td><td>6         </td><td>erp       </td><td>0.5265934 </td><td>0.13283343</td></tr>\n",
       "\t<tr><td>3         </td><td>tree      </td><td>12        </td><td>erp       </td><td>0.5265934 </td><td>0.13283343</td></tr>\n",
       "\t<tr><td>3         </td><td>raw       </td><td>NA        </td><td>euc       </td><td>0.5263736 </td><td>0.13661830</td></tr>\n",
       "\t<tr><td>1         </td><td>raw       </td><td>NA        </td><td>manh      </td><td>0.5260440 </td><td>0.13173168</td></tr>\n",
       "\t<tr><td>3         </td><td>raw       </td><td>NA        </td><td>dtw       </td><td>0.5260440 </td><td>0.12700249</td></tr>\n",
       "\t<tr><td>5         </td><td>raw       </td><td>NA        </td><td>euc       </td><td>0.5192308 </td><td>0.12269151</td></tr>\n",
       "\t<tr><td>1         </td><td>raw       </td><td>NA        </td><td>erp       </td><td>0.5186813 </td><td>0.11356276</td></tr>\n",
       "\t<tr><td>3         </td><td>tree      </td><td>6         </td><td>euc       </td><td>0.5184615 </td><td>0.12088299</td></tr>\n",
       "\t<tr><td>3         </td><td>tree      </td><td>12        </td><td>euc       </td><td>0.5184615 </td><td>0.12088299</td></tr>\n",
       "\t<tr><td>5         </td><td>tree      </td><td>6         </td><td>euc       </td><td>0.5120879 </td><td>0.13295230</td></tr>\n",
       "\t<tr><td>5         </td><td>tree      </td><td>12        </td><td>euc       </td><td>0.5120879 </td><td>0.13295230</td></tr>\n",
       "\t<tr><td>5         </td><td>raw       </td><td>NA        </td><td>manh      </td><td>0.5118681 </td><td>0.11221668</td></tr>\n",
       "\t<tr><td>1         </td><td>tree      </td><td>6         </td><td>manh      </td><td>0.5115385 </td><td>0.13512759</td></tr>\n",
       "\t<tr><td>1         </td><td>tree      </td><td>12        </td><td>manh      </td><td>0.5115385 </td><td>0.13512759</td></tr>\n",
       "\t<tr><td>1         </td><td>raw       </td><td>NA        </td><td>euc       </td><td>0.5114286 </td><td>0.12066404</td></tr>\n",
       "\t<tr><td>3         </td><td>tree      </td><td>6         </td><td>dtw       </td><td>0.4896703 </td><td>0.12655944</td></tr>\n",
       "\t<tr><td>3         </td><td>tree      </td><td>12        </td><td>dtw       </td><td>0.4896703 </td><td>0.12603258</td></tr>\n",
       "\t<tr><td>3         </td><td>raw       </td><td>NA        </td><td>manh      </td><td>0.4893407 </td><td>0.13902962</td></tr>\n",
       "\t<tr><td>3         </td><td>tree      </td><td>6         </td><td>manh      </td><td>0.4890110 </td><td>0.12173746</td></tr>\n",
       "\t<tr><td>3         </td><td>tree      </td><td>12        </td><td>manh      </td><td>0.4890110 </td><td>0.12173746</td></tr>\n",
       "\t<tr><td>1         </td><td>tree      </td><td>12        </td><td>erp       </td><td>0.4814286 </td><td>0.13197970</td></tr>\n",
       "\t<tr><td>3         </td><td>raw       </td><td>NA        </td><td>erp       </td><td>0.4745055 </td><td>0.13617907</td></tr>\n",
       "\t<tr><td>1         </td><td>tree      </td><td>6         </td><td>erp       </td><td>0.4737363 </td><td>0.13338391</td></tr>\n",
       "\t<tr><td>1         </td><td>tree      </td><td>6         </td><td>euc       </td><td>0.4665934 </td><td>0.12053632</td></tr>\n",
       "\t<tr><td>1         </td><td>tree      </td><td>12        </td><td>euc       </td><td>0.4665934 </td><td>0.12053632</td></tr>\n",
       "\t<tr><td>5         </td><td>raw       </td><td>NA        </td><td>dtw       </td><td>0.4663736 </td><td>0.09987214</td></tr>\n",
       "\t<tr><td>1         </td><td>tree      </td><td>6         </td><td>dtw       </td><td>0.4591209 </td><td>0.11745733</td></tr>\n",
       "\t<tr><td>1         </td><td>tree      </td><td>12        </td><td>dtw       </td><td>0.4514286 </td><td>0.11958965</td></tr>\n",
       "</tbody>\n",
       "</table>\n"
      ],
      "text/latex": [
       "\\begin{tabular}{r|llllll}\n",
       " kNNValue & representation & parameter & dist & meanACC & sdACC\\\\\n",
       "\\hline\n",
       "\t 1          & dwt        & haar       & euc        & 1.0000000  & 0.00000000\\\\\n",
       "\t 1          & dwt        & la8        & euc        & 1.0000000  & 0.00000000\\\\\n",
       "\t 1          & dwt        & haar       & manh       & 1.0000000  & 0.00000000\\\\\n",
       "\t 1          & dwt        & la8        & manh       & 1.0000000  & 0.00000000\\\\\n",
       "\t 1          & dwt        & haar       & dtw        & 1.0000000  & 0.00000000\\\\\n",
       "\t 1          & dwt        & la8        & dtw        & 1.0000000  & 0.00000000\\\\\n",
       "\t 1          & dwt        & haar       & erp        & 1.0000000  & 0.00000000\\\\\n",
       "\t 1          & dwt        & la8        & erp        & 1.0000000  & 0.00000000\\\\\n",
       "\t 3          & dwt        & haar       & dtw        & 1.0000000  & 0.00000000\\\\\n",
       "\t 3          & dwt        & la8        & dtw        & 1.0000000  & 0.00000000\\\\\n",
       "\t 5          & dwt        & haar       & dtw        & 1.0000000  & 0.00000000\\\\\n",
       "\t 5          & dwt        & la8        & dtw        & 1.0000000  & 0.00000000\\\\\n",
       "\t 3          & dwt        & haar       & erp        & 0.9927473  & 0.02199035\\\\\n",
       "\t 3          & dwt        & la8        & erp        & 0.9927473  & 0.02199035\\\\\n",
       "\t 5          & dwt        & haar       & erp        & 0.9927473  & 0.02199035\\\\\n",
       "\t 5          & dwt        & la8        & erp        & 0.9927473  & 0.02199035\\\\\n",
       "\t 3          & dwt        & haar       & manh       & 0.9926374  & 0.02232872\\\\\n",
       "\t 3          & dwt        & la8        & manh       & 0.9926374  & 0.02232872\\\\\n",
       "\t 5          & dwt        & haar       & manh       & 0.9926374  & 0.02232872\\\\\n",
       "\t 5          & dwt        & la8        & manh       & 0.9926374  & 0.02232872\\\\\n",
       "\t 3          & dwt        & haar       & euc        & 0.9626374  & 0.05068723\\\\\n",
       "\t 3          & dwt        & la8        & euc        & 0.9626374  & 0.05068723\\\\\n",
       "\t 5          & dwt        & haar       & euc        & 0.9626374  & 0.05068723\\\\\n",
       "\t 5          & dwt        & la8        & euc        & 0.9626374  & 0.05068723\\\\\n",
       "\t 1          & raw        & NA         & dtw        & 0.5556044  & 0.13620567\\\\\n",
       "\t 5          & tree       & 6          & manh       & 0.5412088  & 0.12488643\\\\\n",
       "\t 5          & tree       & 12         & manh       & 0.5412088  & 0.12488643\\\\\n",
       "\t 5          & raw        & NA         & erp        & 0.5407692  & 0.11836094\\\\\n",
       "\t 5          & tree       & 6          & dtw        & 0.5339560  & 0.13361190\\\\\n",
       "\t 5          & tree       & 12         & dtw        & 0.5339560  & 0.13361190\\\\\n",
       "\t 5          & tree       & 6          & erp        & 0.5332967  & 0.10801501\\\\\n",
       "\t 5          & tree       & 12         & erp        & 0.5332967  & 0.10801501\\\\\n",
       "\t 3          & tree       & 6          & erp        & 0.5265934  & 0.13283343\\\\\n",
       "\t 3          & tree       & 12         & erp        & 0.5265934  & 0.13283343\\\\\n",
       "\t 3          & raw        & NA         & euc        & 0.5263736  & 0.13661830\\\\\n",
       "\t 1          & raw        & NA         & manh       & 0.5260440  & 0.13173168\\\\\n",
       "\t 3          & raw        & NA         & dtw        & 0.5260440  & 0.12700249\\\\\n",
       "\t 5          & raw        & NA         & euc        & 0.5192308  & 0.12269151\\\\\n",
       "\t 1          & raw        & NA         & erp        & 0.5186813  & 0.11356276\\\\\n",
       "\t 3          & tree       & 6          & euc        & 0.5184615  & 0.12088299\\\\\n",
       "\t 3          & tree       & 12         & euc        & 0.5184615  & 0.12088299\\\\\n",
       "\t 5          & tree       & 6          & euc        & 0.5120879  & 0.13295230\\\\\n",
       "\t 5          & tree       & 12         & euc        & 0.5120879  & 0.13295230\\\\\n",
       "\t 5          & raw        & NA         & manh       & 0.5118681  & 0.11221668\\\\\n",
       "\t 1          & tree       & 6          & manh       & 0.5115385  & 0.13512759\\\\\n",
       "\t 1          & tree       & 12         & manh       & 0.5115385  & 0.13512759\\\\\n",
       "\t 1          & raw        & NA         & euc        & 0.5114286  & 0.12066404\\\\\n",
       "\t 3          & tree       & 6          & dtw        & 0.4896703  & 0.12655944\\\\\n",
       "\t 3          & tree       & 12         & dtw        & 0.4896703  & 0.12603258\\\\\n",
       "\t 3          & raw        & NA         & manh       & 0.4893407  & 0.13902962\\\\\n",
       "\t 3          & tree       & 6          & manh       & 0.4890110  & 0.12173746\\\\\n",
       "\t 3          & tree       & 12         & manh       & 0.4890110  & 0.12173746\\\\\n",
       "\t 1          & tree       & 12         & erp        & 0.4814286  & 0.13197970\\\\\n",
       "\t 3          & raw        & NA         & erp        & 0.4745055  & 0.13617907\\\\\n",
       "\t 1          & tree       & 6          & erp        & 0.4737363  & 0.13338391\\\\\n",
       "\t 1          & tree       & 6          & euc        & 0.4665934  & 0.12053632\\\\\n",
       "\t 1          & tree       & 12         & euc        & 0.4665934  & 0.12053632\\\\\n",
       "\t 5          & raw        & NA         & dtw        & 0.4663736  & 0.09987214\\\\\n",
       "\t 1          & tree       & 6          & dtw        & 0.4591209  & 0.11745733\\\\\n",
       "\t 1          & tree       & 12         & dtw        & 0.4514286  & 0.11958965\\\\\n",
       "\\end{tabular}\n"
      ],
      "text/markdown": [
       "\n",
       "| kNNValue | representation | parameter | dist | meanACC | sdACC |\n",
       "|---|---|---|---|---|---|\n",
       "| 1          | dwt        | haar       | euc        | 1.0000000  | 0.00000000 |\n",
       "| 1          | dwt        | la8        | euc        | 1.0000000  | 0.00000000 |\n",
       "| 1          | dwt        | haar       | manh       | 1.0000000  | 0.00000000 |\n",
       "| 1          | dwt        | la8        | manh       | 1.0000000  | 0.00000000 |\n",
       "| 1          | dwt        | haar       | dtw        | 1.0000000  | 0.00000000 |\n",
       "| 1          | dwt        | la8        | dtw        | 1.0000000  | 0.00000000 |\n",
       "| 1          | dwt        | haar       | erp        | 1.0000000  | 0.00000000 |\n",
       "| 1          | dwt        | la8        | erp        | 1.0000000  | 0.00000000 |\n",
       "| 3          | dwt        | haar       | dtw        | 1.0000000  | 0.00000000 |\n",
       "| 3          | dwt        | la8        | dtw        | 1.0000000  | 0.00000000 |\n",
       "| 5          | dwt        | haar       | dtw        | 1.0000000  | 0.00000000 |\n",
       "| 5          | dwt        | la8        | dtw        | 1.0000000  | 0.00000000 |\n",
       "| 3          | dwt        | haar       | erp        | 0.9927473  | 0.02199035 |\n",
       "| 3          | dwt        | la8        | erp        | 0.9927473  | 0.02199035 |\n",
       "| 5          | dwt        | haar       | erp        | 0.9927473  | 0.02199035 |\n",
       "| 5          | dwt        | la8        | erp        | 0.9927473  | 0.02199035 |\n",
       "| 3          | dwt        | haar       | manh       | 0.9926374  | 0.02232872 |\n",
       "| 3          | dwt        | la8        | manh       | 0.9926374  | 0.02232872 |\n",
       "| 5          | dwt        | haar       | manh       | 0.9926374  | 0.02232872 |\n",
       "| 5          | dwt        | la8        | manh       | 0.9926374  | 0.02232872 |\n",
       "| 3          | dwt        | haar       | euc        | 0.9626374  | 0.05068723 |\n",
       "| 3          | dwt        | la8        | euc        | 0.9626374  | 0.05068723 |\n",
       "| 5          | dwt        | haar       | euc        | 0.9626374  | 0.05068723 |\n",
       "| 5          | dwt        | la8        | euc        | 0.9626374  | 0.05068723 |\n",
       "| 1          | raw        | NA         | dtw        | 0.5556044  | 0.13620567 |\n",
       "| 5          | tree       | 6          | manh       | 0.5412088  | 0.12488643 |\n",
       "| 5          | tree       | 12         | manh       | 0.5412088  | 0.12488643 |\n",
       "| 5          | raw        | NA         | erp        | 0.5407692  | 0.11836094 |\n",
       "| 5          | tree       | 6          | dtw        | 0.5339560  | 0.13361190 |\n",
       "| 5          | tree       | 12         | dtw        | 0.5339560  | 0.13361190 |\n",
       "| 5          | tree       | 6          | erp        | 0.5332967  | 0.10801501 |\n",
       "| 5          | tree       | 12         | erp        | 0.5332967  | 0.10801501 |\n",
       "| 3          | tree       | 6          | erp        | 0.5265934  | 0.13283343 |\n",
       "| 3          | tree       | 12         | erp        | 0.5265934  | 0.13283343 |\n",
       "| 3          | raw        | NA         | euc        | 0.5263736  | 0.13661830 |\n",
       "| 1          | raw        | NA         | manh       | 0.5260440  | 0.13173168 |\n",
       "| 3          | raw        | NA         | dtw        | 0.5260440  | 0.12700249 |\n",
       "| 5          | raw        | NA         | euc        | 0.5192308  | 0.12269151 |\n",
       "| 1          | raw        | NA         | erp        | 0.5186813  | 0.11356276 |\n",
       "| 3          | tree       | 6          | euc        | 0.5184615  | 0.12088299 |\n",
       "| 3          | tree       | 12         | euc        | 0.5184615  | 0.12088299 |\n",
       "| 5          | tree       | 6          | euc        | 0.5120879  | 0.13295230 |\n",
       "| 5          | tree       | 12         | euc        | 0.5120879  | 0.13295230 |\n",
       "| 5          | raw        | NA         | manh       | 0.5118681  | 0.11221668 |\n",
       "| 1          | tree       | 6          | manh       | 0.5115385  | 0.13512759 |\n",
       "| 1          | tree       | 12         | manh       | 0.5115385  | 0.13512759 |\n",
       "| 1          | raw        | NA         | euc        | 0.5114286  | 0.12066404 |\n",
       "| 3          | tree       | 6          | dtw        | 0.4896703  | 0.12655944 |\n",
       "| 3          | tree       | 12         | dtw        | 0.4896703  | 0.12603258 |\n",
       "| 3          | raw        | NA         | manh       | 0.4893407  | 0.13902962 |\n",
       "| 3          | tree       | 6          | manh       | 0.4890110  | 0.12173746 |\n",
       "| 3          | tree       | 12         | manh       | 0.4890110  | 0.12173746 |\n",
       "| 1          | tree       | 12         | erp        | 0.4814286  | 0.13197970 |\n",
       "| 3          | raw        | NA         | erp        | 0.4745055  | 0.13617907 |\n",
       "| 1          | tree       | 6          | erp        | 0.4737363  | 0.13338391 |\n",
       "| 1          | tree       | 6          | euc        | 0.4665934  | 0.12053632 |\n",
       "| 1          | tree       | 12         | euc        | 0.4665934  | 0.12053632 |\n",
       "| 5          | raw        | NA         | dtw        | 0.4663736  | 0.09987214 |\n",
       "| 1          | tree       | 6          | dtw        | 0.4591209  | 0.11745733 |\n",
       "| 1          | tree       | 12         | dtw        | 0.4514286  | 0.11958965 |\n",
       "\n"
      ],
      "text/plain": [
       "   kNNValue representation parameter dist meanACC   sdACC     \n",
       "1  1        dwt            haar      euc  1.0000000 0.00000000\n",
       "2  1        dwt            la8       euc  1.0000000 0.00000000\n",
       "3  1        dwt            haar      manh 1.0000000 0.00000000\n",
       "4  1        dwt            la8       manh 1.0000000 0.00000000\n",
       "5  1        dwt            haar      dtw  1.0000000 0.00000000\n",
       "6  1        dwt            la8       dtw  1.0000000 0.00000000\n",
       "7  1        dwt            haar      erp  1.0000000 0.00000000\n",
       "8  1        dwt            la8       erp  1.0000000 0.00000000\n",
       "9  3        dwt            haar      dtw  1.0000000 0.00000000\n",
       "10 3        dwt            la8       dtw  1.0000000 0.00000000\n",
       "11 5        dwt            haar      dtw  1.0000000 0.00000000\n",
       "12 5        dwt            la8       dtw  1.0000000 0.00000000\n",
       "13 3        dwt            haar      erp  0.9927473 0.02199035\n",
       "14 3        dwt            la8       erp  0.9927473 0.02199035\n",
       "15 5        dwt            haar      erp  0.9927473 0.02199035\n",
       "16 5        dwt            la8       erp  0.9927473 0.02199035\n",
       "17 3        dwt            haar      manh 0.9926374 0.02232872\n",
       "18 3        dwt            la8       manh 0.9926374 0.02232872\n",
       "19 5        dwt            haar      manh 0.9926374 0.02232872\n",
       "20 5        dwt            la8       manh 0.9926374 0.02232872\n",
       "21 3        dwt            haar      euc  0.9626374 0.05068723\n",
       "22 3        dwt            la8       euc  0.9626374 0.05068723\n",
       "23 5        dwt            haar      euc  0.9626374 0.05068723\n",
       "24 5        dwt            la8       euc  0.9626374 0.05068723\n",
       "25 1        raw            NA        dtw  0.5556044 0.13620567\n",
       "26 5        tree           6         manh 0.5412088 0.12488643\n",
       "27 5        tree           12        manh 0.5412088 0.12488643\n",
       "28 5        raw            NA        erp  0.5407692 0.11836094\n",
       "29 5        tree           6         dtw  0.5339560 0.13361190\n",
       "30 5        tree           12        dtw  0.5339560 0.13361190\n",
       "31 5        tree           6         erp  0.5332967 0.10801501\n",
       "32 5        tree           12        erp  0.5332967 0.10801501\n",
       "33 3        tree           6         erp  0.5265934 0.13283343\n",
       "34 3        tree           12        erp  0.5265934 0.13283343\n",
       "35 3        raw            NA        euc  0.5263736 0.13661830\n",
       "36 1        raw            NA        manh 0.5260440 0.13173168\n",
       "37 3        raw            NA        dtw  0.5260440 0.12700249\n",
       "38 5        raw            NA        euc  0.5192308 0.12269151\n",
       "39 1        raw            NA        erp  0.5186813 0.11356276\n",
       "40 3        tree           6         euc  0.5184615 0.12088299\n",
       "41 3        tree           12        euc  0.5184615 0.12088299\n",
       "42 5        tree           6         euc  0.5120879 0.13295230\n",
       "43 5        tree           12        euc  0.5120879 0.13295230\n",
       "44 5        raw            NA        manh 0.5118681 0.11221668\n",
       "45 1        tree           6         manh 0.5115385 0.13512759\n",
       "46 1        tree           12        manh 0.5115385 0.13512759\n",
       "47 1        raw            NA        euc  0.5114286 0.12066404\n",
       "48 3        tree           6         dtw  0.4896703 0.12655944\n",
       "49 3        tree           12        dtw  0.4896703 0.12603258\n",
       "50 3        raw            NA        manh 0.4893407 0.13902962\n",
       "51 3        tree           6         manh 0.4890110 0.12173746\n",
       "52 3        tree           12        manh 0.4890110 0.12173746\n",
       "53 1        tree           12        erp  0.4814286 0.13197970\n",
       "54 3        raw            NA        erp  0.4745055 0.13617907\n",
       "55 1        tree           6         erp  0.4737363 0.13338391\n",
       "56 1        tree           6         euc  0.4665934 0.12053632\n",
       "57 1        tree           12        euc  0.4665934 0.12053632\n",
       "58 5        raw            NA        dtw  0.4663736 0.09987214\n",
       "59 1        tree           6         dtw  0.4591209 0.11745733\n",
       "60 1        tree           12        dtw  0.4514286 0.11958965"
      ]
     },
     "metadata": {},
     "output_type": "display_data"
    }
   ],
   "source": [
    "#running the algorithm\n",
    "dt1_reprTable <- alternativeComparisonFunc(kVector, dt1_long, dt1_classes, cv_indices1, nof_rep, n_fold)\n",
    "dt1_reprTable[order(meanACC, decreasing=T)]"
   ]
  },
  {
   "cell_type": "markdown",
   "id": "whole-english",
   "metadata": {},
   "source": [
    "When we look at the ordered results, we can see that there are 12 different approaches who predict 100% correctly. Also, other results show that discrete wavelet transform with any distance measurement and k values of (1, 3, 5) perform over 96% accuracy although the success of other approaches are up to 55%. For the GunPointMaleVersusFemale Set, DWT can be used with any desired distance measurement and any k value in (1, 3, 5) in order to classify.  "
   ]
  },
  {
   "cell_type": "markdown",
   "id": "organic-shipping",
   "metadata": {},
   "source": [
    " "
   ]
  },
  {
   "cell_type": "markdown",
   "id": "floating-forward",
   "metadata": {},
   "source": [
    " "
   ]
  },
  {
   "cell_type": "markdown",
   "id": "prescription-change",
   "metadata": {},
   "source": [
    "# Dataset #2  |  PowerCons Set"
   ]
  },
  {
   "cell_type": "markdown",
   "id": "three-disposition",
   "metadata": {},
   "source": [
    "This set contains the individual household electric power consumption in one year observed in either a warm season (from April to September) or a cold season (from October to March). The task is to classify warm season (class 1) and cold season (class 2). Training data has 180 instances with time series length of 144.  "
   ]
  },
  {
   "cell_type": "code",
   "execution_count": 15,
   "id": "rolled-oklahoma",
   "metadata": {},
   "outputs": [
    {
     "data": {
      "text/html": [
       "<table>\n",
       "<thead><tr><th scope=col>id</th><th scope=col>class</th><th scope=col>time</th><th scope=col>value</th></tr></thead>\n",
       "<tbody>\n",
       "\t<tr><td>1   </td><td>1   </td><td>1   </td><td>0.44</td></tr>\n",
       "\t<tr><td>1   </td><td>1   </td><td>2   </td><td>0.40</td></tr>\n",
       "\t<tr><td>1   </td><td>1   </td><td>3   </td><td>0.36</td></tr>\n",
       "\t<tr><td>1   </td><td>1   </td><td>4   </td><td>0.35</td></tr>\n",
       "\t<tr><td>1   </td><td>1   </td><td>5   </td><td>0.35</td></tr>\n",
       "\t<tr><td>1   </td><td>1   </td><td>6   </td><td>0.38</td></tr>\n",
       "</tbody>\n",
       "</table>\n"
      ],
      "text/latex": [
       "\\begin{tabular}{r|llll}\n",
       " id & class & time & value\\\\\n",
       "\\hline\n",
       "\t 1    & 1    & 1    & 0.44\\\\\n",
       "\t 1    & 1    & 2    & 0.40\\\\\n",
       "\t 1    & 1    & 3    & 0.36\\\\\n",
       "\t 1    & 1    & 4    & 0.35\\\\\n",
       "\t 1    & 1    & 5    & 0.35\\\\\n",
       "\t 1    & 1    & 6    & 0.38\\\\\n",
       "\\end{tabular}\n"
      ],
      "text/markdown": [
       "\n",
       "| id | class | time | value |\n",
       "|---|---|---|---|\n",
       "| 1    | 1    | 1    | 0.44 |\n",
       "| 1    | 1    | 2    | 0.40 |\n",
       "| 1    | 1    | 3    | 0.36 |\n",
       "| 1    | 1    | 4    | 0.35 |\n",
       "| 1    | 1    | 5    | 0.35 |\n",
       "| 1    | 1    | 6    | 0.38 |\n",
       "\n"
      ],
      "text/plain": [
       "  id class time value\n",
       "1 1  1     1    0.44 \n",
       "2 1  1     2    0.40 \n",
       "3 1  1     3    0.36 \n",
       "4 1  1     4    0.35 \n",
       "5 1  1     5    0.35 \n",
       "6 1  1     6    0.38 "
      ]
     },
     "metadata": {},
     "output_type": "display_data"
    }
   ],
   "source": [
    "dt2 <- fread(\"PowerCons_TRAIN.txt\")\n",
    "setnames(dt2, \"V1\", \"class\")\n",
    "dt2 <- dt2[order(class)]\n",
    "dt2[, class:=as.character(class)]\n",
    "dt2[, id:=as.character(1:.N)]\n",
    "\n",
    "#melting operations\n",
    "dt2_long <- melt(dt2, id.vars=c(\"id\", \"class\"))\n",
    "dt2_long[, time:=as.numeric(gsub(\"\\\\D\", \"\", variable))-1]\n",
    "dt2_long <- dt2_long[, list(id,class,time,value)]\n",
    "dt2_long <- dt2_long[order(id,time)]\n",
    "\n",
    "#actual classes\n",
    "dt2_classes <- dt2$class\n",
    "\n",
    "head(dt2_long)"
   ]
  },
  {
   "cell_type": "code",
   "execution_count": 16,
   "id": "environmental-affiliation",
   "metadata": {},
   "outputs": [
    {
     "data": {
      "image/png": "[encoded data removed]",
      "text/plain": [
       "plot without title"
      ]
     },
     "metadata": {},
     "output_type": "display_data"
    }
   ],
   "source": [
    "ggplot(dt2_long, aes(time, value)) + geom_line(aes(color=id)) + facet_grid(class~.) + theme(legend.position=\"none\") + \n",
    "    labs(title=\"PowerCons Training Set\")"
   ]
  },
  {
   "cell_type": "code",
   "execution_count": 17,
   "id": "provincial-functionality",
   "metadata": {},
   "outputs": [],
   "source": [
    "#creating CV indices\n",
    "set.seed(58)\n",
    "kVector <- c(1,3,5)\n",
    "nof_rep <- 5\n",
    "n_fold <- 10\n",
    "\n",
    "cv_indices2 <- generateCVRuns(dt2_classes, ntimes=nof_rep, nfold=n_fold,\n",
    "                              leaveOneOut=FALSE, stratified=TRUE)"
   ]
  },
  {
   "cell_type": "code",
   "execution_count": 18,
   "id": "resistant-grill",
   "metadata": {},
   "outputs": [
    {
     "data": {
      "text/html": [
       "<table>\n",
       "<thead><tr><th scope=col>kNNValue</th><th scope=col>representation</th><th scope=col>parameter</th><th scope=col>dist</th><th scope=col>meanACC</th><th scope=col>sdACC</th></tr></thead>\n",
       "<tbody>\n",
       "\t<tr><td>3         </td><td>dwt       </td><td>haar      </td><td>euc       </td><td>0.9722222 </td><td>0.03928371</td></tr>\n",
       "\t<tr><td>3         </td><td>dwt       </td><td>la8       </td><td>euc       </td><td>0.9722222 </td><td>0.03928371</td></tr>\n",
       "\t<tr><td>5         </td><td>dwt       </td><td>haar      </td><td>euc       </td><td>0.9722222 </td><td>0.03928371</td></tr>\n",
       "\t<tr><td>5         </td><td>dwt       </td><td>la8       </td><td>euc       </td><td>0.9722222 </td><td>0.03928371</td></tr>\n",
       "\t<tr><td>5         </td><td>dwt       </td><td>haar      </td><td>manh      </td><td>0.9555556 </td><td>0.05264484</td></tr>\n",
       "\t<tr><td>5         </td><td>dwt       </td><td>la8       </td><td>manh      </td><td>0.9555556 </td><td>0.05264484</td></tr>\n",
       "\t<tr><td>3         </td><td>dwt       </td><td>haar      </td><td>manh      </td><td>0.9500000 </td><td>0.05527138</td></tr>\n",
       "\t<tr><td>1         </td><td>dwt       </td><td>la8       </td><td>euc       </td><td>0.9500000 </td><td>0.04236936</td></tr>\n",
       "\t<tr><td>1         </td><td>dwt       </td><td>haar      </td><td>euc       </td><td>0.9444444 </td><td>0.04761905</td></tr>\n",
       "\t<tr><td>3         </td><td>dwt       </td><td>la8       </td><td>manh      </td><td>0.9444444 </td><td>0.05382802</td></tr>\n",
       "\t<tr><td>1         </td><td>dwt       </td><td>haar      </td><td>manh      </td><td>0.9333333 </td><td>0.05498574</td></tr>\n",
       "\t<tr><td>1         </td><td>dwt       </td><td>la8       </td><td>manh      </td><td>0.9333333 </td><td>0.05611959</td></tr>\n",
       "\t<tr><td>1         </td><td>dwt       </td><td>la8       </td><td>dtw       </td><td>0.9166667 </td><td>0.06568629</td></tr>\n",
       "\t<tr><td>1         </td><td>dwt       </td><td>la8       </td><td>erp       </td><td>0.9166667 </td><td>0.05173970</td></tr>\n",
       "\t<tr><td>5         </td><td>dwt       </td><td>la8       </td><td>erp       </td><td>0.9166667 </td><td>0.07796382</td></tr>\n",
       "\t<tr><td>1         </td><td>dwt       </td><td>haar      </td><td>erp       </td><td>0.9055556 </td><td>0.05639949</td></tr>\n",
       "\t<tr><td>5         </td><td>dwt       </td><td>haar      </td><td>erp       </td><td>0.9000000 </td><td>0.07612431</td></tr>\n",
       "\t<tr><td>3         </td><td>dwt       </td><td>haar      </td><td>erp       </td><td>0.9000000 </td><td>0.06447650</td></tr>\n",
       "\t<tr><td>3         </td><td>dwt       </td><td>la8       </td><td>erp       </td><td>0.8944444 </td><td>0.07466225</td></tr>\n",
       "\t<tr><td>1         </td><td>dwt       </td><td>haar      </td><td>dtw       </td><td>0.8833333 </td><td>0.06757693</td></tr>\n",
       "\t<tr><td>5         </td><td>tree      </td><td>6         </td><td>euc       </td><td>0.8555556 </td><td>0.08694009</td></tr>\n",
       "\t<tr><td>5         </td><td>tree      </td><td>12        </td><td>euc       </td><td>0.8555556 </td><td>0.08694009</td></tr>\n",
       "\t<tr><td>5         </td><td>raw       </td><td>NA        </td><td>erp       </td><td>0.8500000 </td><td>0.08190384</td></tr>\n",
       "\t<tr><td>5         </td><td>dwt       </td><td>haar      </td><td>dtw       </td><td>0.8444444 </td><td>0.09457441</td></tr>\n",
       "\t<tr><td>5         </td><td>raw       </td><td>NA        </td><td>euc       </td><td>0.8444444 </td><td>0.07856742</td></tr>\n",
       "\t<tr><td>5         </td><td>tree      </td><td>6         </td><td>manh      </td><td>0.8388889 </td><td>0.07295546</td></tr>\n",
       "\t<tr><td>5         </td><td>tree      </td><td>12        </td><td>manh      </td><td>0.8388889 </td><td>0.07295546</td></tr>\n",
       "\t<tr><td>3         </td><td>tree      </td><td>6         </td><td>manh      </td><td>0.8333333 </td><td>0.07529233</td></tr>\n",
       "\t<tr><td>3         </td><td>tree      </td><td>12        </td><td>manh      </td><td>0.8333333 </td><td>0.07529233</td></tr>\n",
       "\t<tr><td>3         </td><td>tree      </td><td>6         </td><td>dtw       </td><td>0.8277778 </td><td>0.09540330</td></tr>\n",
       "\t<tr><td>5         </td><td>raw       </td><td>NA        </td><td>manh      </td><td>0.8277778 </td><td>0.08996654</td></tr>\n",
       "\t<tr><td>5         </td><td>tree      </td><td>12        </td><td>erp       </td><td>0.8277778 </td><td>0.07876759</td></tr>\n",
       "\t<tr><td>3         </td><td>tree      </td><td>6         </td><td>euc       </td><td>0.8222222 </td><td>0.08694009</td></tr>\n",
       "\t<tr><td>3         </td><td>tree      </td><td>12        </td><td>euc       </td><td>0.8222222 </td><td>0.08694009</td></tr>\n",
       "\t<tr><td>3         </td><td>raw       </td><td>NA        </td><td>euc       </td><td>0.8222222 </td><td>0.08093682</td></tr>\n",
       "\t<tr><td>5         </td><td>tree      </td><td>6         </td><td>erp       </td><td>0.8222222 </td><td>0.07694730</td></tr>\n",
       "\t<tr><td>3         </td><td>dwt       </td><td>la8       </td><td>dtw       </td><td>0.8166667 </td><td>0.09340161</td></tr>\n",
       "\t<tr><td>5         </td><td>tree      </td><td>6         </td><td>dtw       </td><td>0.8166667 </td><td>0.08492434</td></tr>\n",
       "\t<tr><td>3         </td><td>tree      </td><td>12        </td><td>dtw       </td><td>0.8166667 </td><td>0.10117102</td></tr>\n",
       "\t<tr><td>3         </td><td>raw       </td><td>NA        </td><td>manh      </td><td>0.8111111 </td><td>0.08837721</td></tr>\n",
       "\t<tr><td>5         </td><td>tree      </td><td>12        </td><td>dtw       </td><td>0.8111111 </td><td>0.08908708</td></tr>\n",
       "\t<tr><td>5         </td><td>dwt       </td><td>la8       </td><td>dtw       </td><td>0.8111111 </td><td>0.09255479</td></tr>\n",
       "\t<tr><td>1         </td><td>raw       </td><td>NA        </td><td>erp       </td><td>0.8000000 </td><td>0.08473872</td></tr>\n",
       "\t<tr><td>1         </td><td>tree      </td><td>6         </td><td>euc       </td><td>0.8000000 </td><td>0.08547881</td></tr>\n",
       "\t<tr><td>1         </td><td>tree      </td><td>12        </td><td>euc       </td><td>0.8000000 </td><td>0.08547881</td></tr>\n",
       "\t<tr><td>1         </td><td>tree      </td><td>6         </td><td>erp       </td><td>0.8000000 </td><td>0.10101525</td></tr>\n",
       "\t<tr><td>3         </td><td>dwt       </td><td>haar      </td><td>dtw       </td><td>0.8000000 </td><td>0.10588622</td></tr>\n",
       "\t<tr><td>1         </td><td>tree      </td><td>12        </td><td>erp       </td><td>0.7944444 </td><td>0.10543913</td></tr>\n",
       "\t<tr><td>1         </td><td>tree      </td><td>6         </td><td>manh      </td><td>0.7944444 </td><td>0.09340161</td></tr>\n",
       "\t<tr><td>1         </td><td>tree      </td><td>12        </td><td>manh      </td><td>0.7944444 </td><td>0.09340161</td></tr>\n",
       "\t<tr><td>3         </td><td>tree      </td><td>6         </td><td>erp       </td><td>0.7944444 </td><td>0.08417938</td></tr>\n",
       "\t<tr><td>3         </td><td>tree      </td><td>12        </td><td>erp       </td><td>0.7944444 </td><td>0.08417938</td></tr>\n",
       "\t<tr><td>3         </td><td>raw       </td><td>NA        </td><td>erp       </td><td>0.7888889 </td><td>0.09118353</td></tr>\n",
       "\t<tr><td>1         </td><td>tree      </td><td>6         </td><td>dtw       </td><td>0.7833333 </td><td>0.09407357</td></tr>\n",
       "\t<tr><td>5         </td><td>raw       </td><td>NA        </td><td>dtw       </td><td>0.7777778 </td><td>0.09655179</td></tr>\n",
       "\t<tr><td>3         </td><td>raw       </td><td>NA        </td><td>dtw       </td><td>0.7777778 </td><td>0.10101525</td></tr>\n",
       "\t<tr><td>1         </td><td>tree      </td><td>12        </td><td>dtw       </td><td>0.7777778 </td><td>0.09457441</td></tr>\n",
       "\t<tr><td>1         </td><td>raw       </td><td>NA        </td><td>manh      </td><td>0.7722222 </td><td>0.09272477</td></tr>\n",
       "\t<tr><td>1         </td><td>raw       </td><td>NA        </td><td>euc       </td><td>0.7500000 </td><td>0.08566283</td></tr>\n",
       "\t<tr><td>1         </td><td>raw       </td><td>NA        </td><td>dtw       </td><td>0.7444444 </td><td>0.10468973</td></tr>\n",
       "</tbody>\n",
       "</table>\n"
      ],
      "text/latex": [
       "\\begin{tabular}{r|llllll}\n",
       " kNNValue & representation & parameter & dist & meanACC & sdACC\\\\\n",
       "\\hline\n",
       "\t 3          & dwt        & haar       & euc        & 0.9722222  & 0.03928371\\\\\n",
       "\t 3          & dwt        & la8        & euc        & 0.9722222  & 0.03928371\\\\\n",
       "\t 5          & dwt        & haar       & euc        & 0.9722222  & 0.03928371\\\\\n",
       "\t 5          & dwt        & la8        & euc        & 0.9722222  & 0.03928371\\\\\n",
       "\t 5          & dwt        & haar       & manh       & 0.9555556  & 0.05264484\\\\\n",
       "\t 5          & dwt        & la8        & manh       & 0.9555556  & 0.05264484\\\\\n",
       "\t 3          & dwt        & haar       & manh       & 0.9500000  & 0.05527138\\\\\n",
       "\t 1          & dwt        & la8        & euc        & 0.9500000  & 0.04236936\\\\\n",
       "\t 1          & dwt        & haar       & euc        & 0.9444444  & 0.04761905\\\\\n",
       "\t 3          & dwt        & la8        & manh       & 0.9444444  & 0.05382802\\\\\n",
       "\t 1          & dwt        & haar       & manh       & 0.9333333  & 0.05498574\\\\\n",
       "\t 1          & dwt        & la8        & manh       & 0.9333333  & 0.05611959\\\\\n",
       "\t 1          & dwt        & la8        & dtw        & 0.9166667  & 0.06568629\\\\\n",
       "\t 1          & dwt        & la8        & erp        & 0.9166667  & 0.05173970\\\\\n",
       "\t 5          & dwt        & la8        & erp        & 0.9166667  & 0.07796382\\\\\n",
       "\t 1          & dwt        & haar       & erp        & 0.9055556  & 0.05639949\\\\\n",
       "\t 5          & dwt        & haar       & erp        & 0.9000000  & 0.07612431\\\\\n",
       "\t 3          & dwt        & haar       & erp        & 0.9000000  & 0.06447650\\\\\n",
       "\t 3          & dwt        & la8        & erp        & 0.8944444  & 0.07466225\\\\\n",
       "\t 1          & dwt        & haar       & dtw        & 0.8833333  & 0.06757693\\\\\n",
       "\t 5          & tree       & 6          & euc        & 0.8555556  & 0.08694009\\\\\n",
       "\t 5          & tree       & 12         & euc        & 0.8555556  & 0.08694009\\\\\n",
       "\t 5          & raw        & NA         & erp        & 0.8500000  & 0.08190384\\\\\n",
       "\t 5          & dwt        & haar       & dtw        & 0.8444444  & 0.09457441\\\\\n",
       "\t 5          & raw        & NA         & euc        & 0.8444444  & 0.07856742\\\\\n",
       "\t 5          & tree       & 6          & manh       & 0.8388889  & 0.07295546\\\\\n",
       "\t 5          & tree       & 12         & manh       & 0.8388889  & 0.07295546\\\\\n",
       "\t 3          & tree       & 6          & manh       & 0.8333333  & 0.07529233\\\\\n",
       "\t 3          & tree       & 12         & manh       & 0.8333333  & 0.07529233\\\\\n",
       "\t 3          & tree       & 6          & dtw        & 0.8277778  & 0.09540330\\\\\n",
       "\t 5          & raw        & NA         & manh       & 0.8277778  & 0.08996654\\\\\n",
       "\t 5          & tree       & 12         & erp        & 0.8277778  & 0.07876759\\\\\n",
       "\t 3          & tree       & 6          & euc        & 0.8222222  & 0.08694009\\\\\n",
       "\t 3          & tree       & 12         & euc        & 0.8222222  & 0.08694009\\\\\n",
       "\t 3          & raw        & NA         & euc        & 0.8222222  & 0.08093682\\\\\n",
       "\t 5          & tree       & 6          & erp        & 0.8222222  & 0.07694730\\\\\n",
       "\t 3          & dwt        & la8        & dtw        & 0.8166667  & 0.09340161\\\\\n",
       "\t 5          & tree       & 6          & dtw        & 0.8166667  & 0.08492434\\\\\n",
       "\t 3          & tree       & 12         & dtw        & 0.8166667  & 0.10117102\\\\\n",
       "\t 3          & raw        & NA         & manh       & 0.8111111  & 0.08837721\\\\\n",
       "\t 5          & tree       & 12         & dtw        & 0.8111111  & 0.08908708\\\\\n",
       "\t 5          & dwt        & la8        & dtw        & 0.8111111  & 0.09255479\\\\\n",
       "\t 1          & raw        & NA         & erp        & 0.8000000  & 0.08473872\\\\\n",
       "\t 1          & tree       & 6          & euc        & 0.8000000  & 0.08547881\\\\\n",
       "\t 1          & tree       & 12         & euc        & 0.8000000  & 0.08547881\\\\\n",
       "\t 1          & tree       & 6          & erp        & 0.8000000  & 0.10101525\\\\\n",
       "\t 3          & dwt        & haar       & dtw        & 0.8000000  & 0.10588622\\\\\n",
       "\t 1          & tree       & 12         & erp        & 0.7944444  & 0.10543913\\\\\n",
       "\t 1          & tree       & 6          & manh       & 0.7944444  & 0.09340161\\\\\n",
       "\t 1          & tree       & 12         & manh       & 0.7944444  & 0.09340161\\\\\n",
       "\t 3          & tree       & 6          & erp        & 0.7944444  & 0.08417938\\\\\n",
       "\t 3          & tree       & 12         & erp        & 0.7944444  & 0.08417938\\\\\n",
       "\t 3          & raw        & NA         & erp        & 0.7888889  & 0.09118353\\\\\n",
       "\t 1          & tree       & 6          & dtw        & 0.7833333  & 0.09407357\\\\\n",
       "\t 5          & raw        & NA         & dtw        & 0.7777778  & 0.09655179\\\\\n",
       "\t 3          & raw        & NA         & dtw        & 0.7777778  & 0.10101525\\\\\n",
       "\t 1          & tree       & 12         & dtw        & 0.7777778  & 0.09457441\\\\\n",
       "\t 1          & raw        & NA         & manh       & 0.7722222  & 0.09272477\\\\\n",
       "\t 1          & raw        & NA         & euc        & 0.7500000  & 0.08566283\\\\\n",
       "\t 1          & raw        & NA         & dtw        & 0.7444444  & 0.10468973\\\\\n",
       "\\end{tabular}\n"
      ],
      "text/markdown": [
       "\n",
       "| kNNValue | representation | parameter | dist | meanACC | sdACC |\n",
       "|---|---|---|---|---|---|\n",
       "| 3          | dwt        | haar       | euc        | 0.9722222  | 0.03928371 |\n",
       "| 3          | dwt        | la8        | euc        | 0.9722222  | 0.03928371 |\n",
       "| 5          | dwt        | haar       | euc        | 0.9722222  | 0.03928371 |\n",
       "| 5          | dwt        | la8        | euc        | 0.9722222  | 0.03928371 |\n",
       "| 5          | dwt        | haar       | manh       | 0.9555556  | 0.05264484 |\n",
       "| 5          | dwt        | la8        | manh       | 0.9555556  | 0.05264484 |\n",
       "| 3          | dwt        | haar       | manh       | 0.9500000  | 0.05527138 |\n",
       "| 1          | dwt        | la8        | euc        | 0.9500000  | 0.04236936 |\n",
       "| 1          | dwt        | haar       | euc        | 0.9444444  | 0.04761905 |\n",
       "| 3          | dwt        | la8        | manh       | 0.9444444  | 0.05382802 |\n",
       "| 1          | dwt        | haar       | manh       | 0.9333333  | 0.05498574 |\n",
       "| 1          | dwt        | la8        | manh       | 0.9333333  | 0.05611959 |\n",
       "| 1          | dwt        | la8        | dtw        | 0.9166667  | 0.06568629 |\n",
       "| 1          | dwt        | la8        | erp        | 0.9166667  | 0.05173970 |\n",
       "| 5          | dwt        | la8        | erp        | 0.9166667  | 0.07796382 |\n",
       "| 1          | dwt        | haar       | erp        | 0.9055556  | 0.05639949 |\n",
       "| 5          | dwt        | haar       | erp        | 0.9000000  | 0.07612431 |\n",
       "| 3          | dwt        | haar       | erp        | 0.9000000  | 0.06447650 |\n",
       "| 3          | dwt        | la8        | erp        | 0.8944444  | 0.07466225 |\n",
       "| 1          | dwt        | haar       | dtw        | 0.8833333  | 0.06757693 |\n",
       "| 5          | tree       | 6          | euc        | 0.8555556  | 0.08694009 |\n",
       "| 5          | tree       | 12         | euc        | 0.8555556  | 0.08694009 |\n",
       "| 5          | raw        | NA         | erp        | 0.8500000  | 0.08190384 |\n",
       "| 5          | dwt        | haar       | dtw        | 0.8444444  | 0.09457441 |\n",
       "| 5          | raw        | NA         | euc        | 0.8444444  | 0.07856742 |\n",
       "| 5          | tree       | 6          | manh       | 0.8388889  | 0.07295546 |\n",
       "| 5          | tree       | 12         | manh       | 0.8388889  | 0.07295546 |\n",
       "| 3          | tree       | 6          | manh       | 0.8333333  | 0.07529233 |\n",
       "| 3          | tree       | 12         | manh       | 0.8333333  | 0.07529233 |\n",
       "| 3          | tree       | 6          | dtw        | 0.8277778  | 0.09540330 |\n",
       "| 5          | raw        | NA         | manh       | 0.8277778  | 0.08996654 |\n",
       "| 5          | tree       | 12         | erp        | 0.8277778  | 0.07876759 |\n",
       "| 3          | tree       | 6          | euc        | 0.8222222  | 0.08694009 |\n",
       "| 3          | tree       | 12         | euc        | 0.8222222  | 0.08694009 |\n",
       "| 3          | raw        | NA         | euc        | 0.8222222  | 0.08093682 |\n",
       "| 5          | tree       | 6          | erp        | 0.8222222  | 0.07694730 |\n",
       "| 3          | dwt        | la8        | dtw        | 0.8166667  | 0.09340161 |\n",
       "| 5          | tree       | 6          | dtw        | 0.8166667  | 0.08492434 |\n",
       "| 3          | tree       | 12         | dtw        | 0.8166667  | 0.10117102 |\n",
       "| 3          | raw        | NA         | manh       | 0.8111111  | 0.08837721 |\n",
       "| 5          | tree       | 12         | dtw        | 0.8111111  | 0.08908708 |\n",
       "| 5          | dwt        | la8        | dtw        | 0.8111111  | 0.09255479 |\n",
       "| 1          | raw        | NA         | erp        | 0.8000000  | 0.08473872 |\n",
       "| 1          | tree       | 6          | euc        | 0.8000000  | 0.08547881 |\n",
       "| 1          | tree       | 12         | euc        | 0.8000000  | 0.08547881 |\n",
       "| 1          | tree       | 6          | erp        | 0.8000000  | 0.10101525 |\n",
       "| 3          | dwt        | haar       | dtw        | 0.8000000  | 0.10588622 |\n",
       "| 1          | tree       | 12         | erp        | 0.7944444  | 0.10543913 |\n",
       "| 1          | tree       | 6          | manh       | 0.7944444  | 0.09340161 |\n",
       "| 1          | tree       | 12         | manh       | 0.7944444  | 0.09340161 |\n",
       "| 3          | tree       | 6          | erp        | 0.7944444  | 0.08417938 |\n",
       "| 3          | tree       | 12         | erp        | 0.7944444  | 0.08417938 |\n",
       "| 3          | raw        | NA         | erp        | 0.7888889  | 0.09118353 |\n",
       "| 1          | tree       | 6          | dtw        | 0.7833333  | 0.09407357 |\n",
       "| 5          | raw        | NA         | dtw        | 0.7777778  | 0.09655179 |\n",
       "| 3          | raw        | NA         | dtw        | 0.7777778  | 0.10101525 |\n",
       "| 1          | tree       | 12         | dtw        | 0.7777778  | 0.09457441 |\n",
       "| 1          | raw        | NA         | manh       | 0.7722222  | 0.09272477 |\n",
       "| 1          | raw        | NA         | euc        | 0.7500000  | 0.08566283 |\n",
       "| 1          | raw        | NA         | dtw        | 0.7444444  | 0.10468973 |\n",
       "\n"
      ],
      "text/plain": [
       "   kNNValue representation parameter dist meanACC   sdACC     \n",
       "1  3        dwt            haar      euc  0.9722222 0.03928371\n",
       "2  3        dwt            la8       euc  0.9722222 0.03928371\n",
       "3  5        dwt            haar      euc  0.9722222 0.03928371\n",
       "4  5        dwt            la8       euc  0.9722222 0.03928371\n",
       "5  5        dwt            haar      manh 0.9555556 0.05264484\n",
       "6  5        dwt            la8       manh 0.9555556 0.05264484\n",
       "7  3        dwt            haar      manh 0.9500000 0.05527138\n",
       "8  1        dwt            la8       euc  0.9500000 0.04236936\n",
       "9  1        dwt            haar      euc  0.9444444 0.04761905\n",
       "10 3        dwt            la8       manh 0.9444444 0.05382802\n",
       "11 1        dwt            haar      manh 0.9333333 0.05498574\n",
       "12 1        dwt            la8       manh 0.9333333 0.05611959\n",
       "13 1        dwt            la8       dtw  0.9166667 0.06568629\n",
       "14 1        dwt            la8       erp  0.9166667 0.05173970\n",
       "15 5        dwt            la8       erp  0.9166667 0.07796382\n",
       "16 1        dwt            haar      erp  0.9055556 0.05639949\n",
       "17 5        dwt            haar      erp  0.9000000 0.07612431\n",
       "18 3        dwt            haar      erp  0.9000000 0.06447650\n",
       "19 3        dwt            la8       erp  0.8944444 0.07466225\n",
       "20 1        dwt            haar      dtw  0.8833333 0.06757693\n",
       "21 5        tree           6         euc  0.8555556 0.08694009\n",
       "22 5        tree           12        euc  0.8555556 0.08694009\n",
       "23 5        raw            NA        erp  0.8500000 0.08190384\n",
       "24 5        dwt            haar      dtw  0.8444444 0.09457441\n",
       "25 5        raw            NA        euc  0.8444444 0.07856742\n",
       "26 5        tree           6         manh 0.8388889 0.07295546\n",
       "27 5        tree           12        manh 0.8388889 0.07295546\n",
       "28 3        tree           6         manh 0.8333333 0.07529233\n",
       "29 3        tree           12        manh 0.8333333 0.07529233\n",
       "30 3        tree           6         dtw  0.8277778 0.09540330\n",
       "31 5        raw            NA        manh 0.8277778 0.08996654\n",
       "32 5        tree           12        erp  0.8277778 0.07876759\n",
       "33 3        tree           6         euc  0.8222222 0.08694009\n",
       "34 3        tree           12        euc  0.8222222 0.08694009\n",
       "35 3        raw            NA        euc  0.8222222 0.08093682\n",
       "36 5        tree           6         erp  0.8222222 0.07694730\n",
       "37 3        dwt            la8       dtw  0.8166667 0.09340161\n",
       "38 5        tree           6         dtw  0.8166667 0.08492434\n",
       "39 3        tree           12        dtw  0.8166667 0.10117102\n",
       "40 3        raw            NA        manh 0.8111111 0.08837721\n",
       "41 5        tree           12        dtw  0.8111111 0.08908708\n",
       "42 5        dwt            la8       dtw  0.8111111 0.09255479\n",
       "43 1        raw            NA        erp  0.8000000 0.08473872\n",
       "44 1        tree           6         euc  0.8000000 0.08547881\n",
       "45 1        tree           12        euc  0.8000000 0.08547881\n",
       "46 1        tree           6         erp  0.8000000 0.10101525\n",
       "47 3        dwt            haar      dtw  0.8000000 0.10588622\n",
       "48 1        tree           12        erp  0.7944444 0.10543913\n",
       "49 1        tree           6         manh 0.7944444 0.09340161\n",
       "50 1        tree           12        manh 0.7944444 0.09340161\n",
       "51 3        tree           6         erp  0.7944444 0.08417938\n",
       "52 3        tree           12        erp  0.7944444 0.08417938\n",
       "53 3        raw            NA        erp  0.7888889 0.09118353\n",
       "54 1        tree           6         dtw  0.7833333 0.09407357\n",
       "55 5        raw            NA        dtw  0.7777778 0.09655179\n",
       "56 3        raw            NA        dtw  0.7777778 0.10101525\n",
       "57 1        tree           12        dtw  0.7777778 0.09457441\n",
       "58 1        raw            NA        manh 0.7722222 0.09272477\n",
       "59 1        raw            NA        euc  0.7500000 0.08566283\n",
       "60 1        raw            NA        dtw  0.7444444 0.10468973"
      ]
     },
     "metadata": {},
     "output_type": "display_data"
    }
   ],
   "source": [
    "#running the algorithm\n",
    "dt2_reprTable <- alternativeComparisonFunc(kVector, dt2_long, dt2_classes, cv_indices2, nof_rep, n_fold)\n",
    "dt2_reprTable[order(meanACC, decreasing=T)]"
   ]
  },
  {
   "cell_type": "markdown",
   "id": "portuguese-actor",
   "metadata": {},
   "source": [
    "Again, discrete wavelet transform works well for this dataset. Over 90% accuracy level, it can be chosen with parameters of first 16 rows of the table.  "
   ]
  },
  {
   "cell_type": "markdown",
   "id": "indie-christian",
   "metadata": {},
   "source": [
    " "
   ]
  },
  {
   "cell_type": "markdown",
   "id": "selected-study",
   "metadata": {},
   "source": [
    " "
   ]
  },
  {
   "cell_type": "markdown",
   "id": "direct-rebecca",
   "metadata": {},
   "source": [
    "# Dataset #3  |  Trace Set"
   ]
  },
  {
   "cell_type": "markdown",
   "id": "secure-beatles",
   "metadata": {},
   "source": [
    "The dataset is a synthetic set created to simulate instrumentation failures in a nuclear power plant. The task is to classify the instances between 4 classes. Training data has 100 instances with time series length of 275.  "
   ]
  },
  {
   "cell_type": "code",
   "execution_count": 19,
   "id": "threatened-cooperation",
   "metadata": {},
   "outputs": [
    {
     "data": {
      "text/html": [
       "<table>\n",
       "<thead><tr><th scope=col>id</th><th scope=col>class</th><th scope=col>time</th><th scope=col>value</th></tr></thead>\n",
       "<tbody>\n",
       "\t<tr><td>1        </td><td>1        </td><td>1        </td><td>0.5440704</td></tr>\n",
       "\t<tr><td>1        </td><td>1        </td><td>2        </td><td>0.6578630</td></tr>\n",
       "\t<tr><td>1        </td><td>1        </td><td>3        </td><td>0.6112391</td></tr>\n",
       "\t<tr><td>1        </td><td>1        </td><td>4        </td><td>0.5454131</td></tr>\n",
       "\t<tr><td>1        </td><td>1        </td><td>5        </td><td>0.5321561</td></tr>\n",
       "\t<tr><td>1        </td><td>1        </td><td>6        </td><td>0.5930125</td></tr>\n",
       "</tbody>\n",
       "</table>\n"
      ],
      "text/latex": [
       "\\begin{tabular}{r|llll}\n",
       " id & class & time & value\\\\\n",
       "\\hline\n",
       "\t 1         & 1         & 1         & 0.5440704\\\\\n",
       "\t 1         & 1         & 2         & 0.6578630\\\\\n",
       "\t 1         & 1         & 3         & 0.6112391\\\\\n",
       "\t 1         & 1         & 4         & 0.5454131\\\\\n",
       "\t 1         & 1         & 5         & 0.5321561\\\\\n",
       "\t 1         & 1         & 6         & 0.5930125\\\\\n",
       "\\end{tabular}\n"
      ],
      "text/markdown": [
       "\n",
       "| id | class | time | value |\n",
       "|---|---|---|---|\n",
       "| 1         | 1         | 1         | 0.5440704 |\n",
       "| 1         | 1         | 2         | 0.6578630 |\n",
       "| 1         | 1         | 3         | 0.6112391 |\n",
       "| 1         | 1         | 4         | 0.5454131 |\n",
       "| 1         | 1         | 5         | 0.5321561 |\n",
       "| 1         | 1         | 6         | 0.5930125 |\n",
       "\n"
      ],
      "text/plain": [
       "  id class time value    \n",
       "1 1  1     1    0.5440704\n",
       "2 1  1     2    0.6578630\n",
       "3 1  1     3    0.6112391\n",
       "4 1  1     4    0.5454131\n",
       "5 1  1     5    0.5321561\n",
       "6 1  1     6    0.5930125"
      ]
     },
     "metadata": {},
     "output_type": "display_data"
    }
   ],
   "source": [
    "dt3 <- fread(\"Trace_TRAIN.txt\")\n",
    "setnames(dt3, \"V1\", \"class\")\n",
    "dt3 <- dt3[order(class)]\n",
    "dt3[, class:=as.character(class)]\n",
    "dt3[, id:=as.character(1:.N)]\n",
    "\n",
    "#melting operations\n",
    "dt3_long <- melt(dt3, id.vars=c(\"id\", \"class\"))\n",
    "dt3_long[, time:=as.numeric(gsub(\"\\\\D\", \"\", variable))-1]\n",
    "dt3_long <- dt3_long[, list(id,class,time,value)]\n",
    "dt3_long <- dt3_long[order(id,time)]\n",
    "\n",
    "#actual classes\n",
    "dt3_classes <- dt3$class\n",
    "\n",
    "head(dt3_long)"
   ]
  },
  {
   "cell_type": "code",
   "execution_count": 20,
   "id": "satellite-withdrawal",
   "metadata": {},
   "outputs": [
    {
     "data": {
      "image/png": "[encoded data removed]",
      "text/plain": [
       "plot without title"
      ]
     },
     "metadata": {},
     "output_type": "display_data"
    }
   ],
   "source": [
    "ggplot(dt3_long, aes(time, value)) + geom_line(aes(color=id)) + facet_grid(class~.) + theme(legend.position=\"none\") + \n",
    "    labs(title=\"Trace Training Set\")"
   ]
  },
  {
   "cell_type": "code",
   "execution_count": 21,
   "id": "fuzzy-battlefield",
   "metadata": {},
   "outputs": [],
   "source": [
    "#creating CV indices\n",
    "set.seed(68)\n",
    "kVector <- c(1,3,5)\n",
    "nof_rep <- 5\n",
    "n_fold <- 10\n",
    "\n",
    "cv_indices3 <- generateCVRuns(dt3_classes, ntimes=nof_rep, nfold=n_fold,\n",
    "                              leaveOneOut=FALSE, stratified=TRUE)"
   ]
  },
  {
   "cell_type": "code",
   "execution_count": 22,
   "id": "regional-entry",
   "metadata": {},
   "outputs": [
    {
     "data": {
      "text/html": [
       "<table>\n",
       "<thead><tr><th scope=col>kNNValue</th><th scope=col>representation</th><th scope=col>parameter</th><th scope=col>dist</th><th scope=col>meanACC</th><th scope=col>sdACC</th></tr></thead>\n",
       "<tbody>\n",
       "\t<tr><td>1         </td><td>dwt       </td><td>la8       </td><td>dtw       </td><td>1.00      </td><td>0.00000000</td></tr>\n",
       "\t<tr><td>1         </td><td>dwt       </td><td>haar      </td><td>dtw       </td><td>0.99      </td><td>0.03030458</td></tr>\n",
       "\t<tr><td>3         </td><td>dwt       </td><td>haar      </td><td>dtw       </td><td>0.99      </td><td>0.03030458</td></tr>\n",
       "\t<tr><td>3         </td><td>dwt       </td><td>la8       </td><td>dtw       </td><td>0.99      </td><td>0.03030458</td></tr>\n",
       "\t<tr><td>5         </td><td>dwt       </td><td>haar      </td><td>dtw       </td><td>0.94      </td><td>0.06998542</td></tr>\n",
       "\t<tr><td>5         </td><td>dwt       </td><td>la8       </td><td>dtw       </td><td>0.93      </td><td>0.07354022</td></tr>\n",
       "\t<tr><td>1         </td><td>dwt       </td><td>la8       </td><td>erp       </td><td>0.90      </td><td>0.06998542</td></tr>\n",
       "\t<tr><td>1         </td><td>dwt       </td><td>haar      </td><td>erp       </td><td>0.89      </td><td>0.07071068</td></tr>\n",
       "\t<tr><td>1         </td><td>dwt       </td><td>haar      </td><td>manh      </td><td>0.85      </td><td>0.07889544</td></tr>\n",
       "\t<tr><td>1         </td><td>dwt       </td><td>la8       </td><td>manh      </td><td>0.85      </td><td>0.07889544</td></tr>\n",
       "\t<tr><td>1         </td><td>dwt       </td><td>haar      </td><td>euc       </td><td>0.84      </td><td>0.10879676</td></tr>\n",
       "\t<tr><td>1         </td><td>dwt       </td><td>la8       </td><td>euc       </td><td>0.84      </td><td>0.10879676</td></tr>\n",
       "\t<tr><td>3         </td><td>dwt       </td><td>haar      </td><td>erp       </td><td>0.83      </td><td>0.07626484</td></tr>\n",
       "\t<tr><td>3         </td><td>dwt       </td><td>la8       </td><td>erp       </td><td>0.83      </td><td>0.07626484</td></tr>\n",
       "\t<tr><td>3         </td><td>raw       </td><td>NA        </td><td>dtw       </td><td>0.82      </td><td>0.11605769</td></tr>\n",
       "\t<tr><td>5         </td><td>raw       </td><td>NA        </td><td>dtw       </td><td>0.82      </td><td>0.11780302</td></tr>\n",
       "\t<tr><td>5         </td><td>dwt       </td><td>haar      </td><td>erp       </td><td>0.82      </td><td>0.08329931</td></tr>\n",
       "\t<tr><td>5         </td><td>dwt       </td><td>la8       </td><td>erp       </td><td>0.82      </td><td>0.08329931</td></tr>\n",
       "\t<tr><td>3         </td><td>dwt       </td><td>haar      </td><td>manh      </td><td>0.79      </td><td>0.10151907</td></tr>\n",
       "\t<tr><td>3         </td><td>dwt       </td><td>la8       </td><td>manh      </td><td>0.78      </td><td>0.09897433</td></tr>\n",
       "\t<tr><td>1         </td><td>raw       </td><td>NA        </td><td>dtw       </td><td>0.74      </td><td>0.11780302</td></tr>\n",
       "\t<tr><td>1         </td><td>tree      </td><td>6         </td><td>dtw       </td><td>0.74      </td><td>0.12777531</td></tr>\n",
       "\t<tr><td>1         </td><td>tree      </td><td>12        </td><td>dtw       </td><td>0.74      </td><td>0.13552619</td></tr>\n",
       "\t<tr><td>5         </td><td>dwt       </td><td>haar      </td><td>manh      </td><td>0.73      </td><td>0.10546302</td></tr>\n",
       "\t<tr><td>5         </td><td>dwt       </td><td>la8       </td><td>manh      </td><td>0.73      </td><td>0.10546302</td></tr>\n",
       "\t<tr><td>5         </td><td>tree      </td><td>12        </td><td>dtw       </td><td>0.73      </td><td>0.12330483</td></tr>\n",
       "\t<tr><td>3         </td><td>tree      </td><td>12        </td><td>dtw       </td><td>0.72      </td><td>0.12777531</td></tr>\n",
       "\t<tr><td>5         </td><td>tree      </td><td>6         </td><td>dtw       </td><td>0.72      </td><td>0.12616801</td></tr>\n",
       "\t<tr><td>3         </td><td>tree      </td><td>6         </td><td>dtw       </td><td>0.71      </td><td>0.12975644</td></tr>\n",
       "\t<tr><td>3         </td><td>dwt       </td><td>haar      </td><td>euc       </td><td>0.70      </td><td>0.12616801</td></tr>\n",
       "\t<tr><td>3         </td><td>dwt       </td><td>la8       </td><td>euc       </td><td>0.69      </td><td>0.13131983</td></tr>\n",
       "\t<tr><td>5         </td><td>tree      </td><td>6         </td><td>erp       </td><td>0.69      </td><td>0.12163847</td></tr>\n",
       "\t<tr><td>5         </td><td>tree      </td><td>12        </td><td>erp       </td><td>0.69      </td><td>0.12163847</td></tr>\n",
       "\t<tr><td>5         </td><td>raw       </td><td>NA        </td><td>erp       </td><td>0.66      </td><td>0.11952286</td></tr>\n",
       "\t<tr><td>3         </td><td>raw       </td><td>NA        </td><td>erp       </td><td>0.66      </td><td>0.13702376</td></tr>\n",
       "\t<tr><td>1         </td><td>raw       </td><td>NA        </td><td>erp       </td><td>0.64      </td><td>0.14708043</td></tr>\n",
       "\t<tr><td>3         </td><td>raw       </td><td>NA        </td><td>manh      </td><td>0.63      </td><td>0.11823532</td></tr>\n",
       "\t<tr><td>3         </td><td>tree      </td><td>6         </td><td>erp       </td><td>0.62      </td><td>0.13248026</td></tr>\n",
       "\t<tr><td>3         </td><td>tree      </td><td>6         </td><td>manh      </td><td>0.61      </td><td>0.13286482</td></tr>\n",
       "\t<tr><td>1         </td><td>tree      </td><td>6         </td><td>erp       </td><td>0.61      </td><td>0.13887301</td></tr>\n",
       "\t<tr><td>3         </td><td>tree      </td><td>12        </td><td>erp       </td><td>0.61      </td><td>0.12817399</td></tr>\n",
       "\t<tr><td>1         </td><td>tree      </td><td>12        </td><td>erp       </td><td>0.60      </td><td>0.13552619</td></tr>\n",
       "\t<tr><td>3         </td><td>tree      </td><td>12        </td><td>manh      </td><td>0.60      </td><td>0.12936264</td></tr>\n",
       "\t<tr><td>5         </td><td>tree      </td><td>6         </td><td>manh      </td><td>0.60      </td><td>0.13702376</td></tr>\n",
       "\t<tr><td>5         </td><td>tree      </td><td>12        </td><td>manh      </td><td>0.60      </td><td>0.13702376</td></tr>\n",
       "\t<tr><td>5         </td><td>dwt       </td><td>la8       </td><td>euc       </td><td>0.59      </td><td>0.11473127</td></tr>\n",
       "\t<tr><td>5         </td><td>raw       </td><td>NA        </td><td>manh      </td><td>0.59      </td><td>0.14321384</td></tr>\n",
       "\t<tr><td>1         </td><td>raw       </td><td>NA        </td><td>manh      </td><td>0.59      </td><td>0.14603606</td></tr>\n",
       "\t<tr><td>5         </td><td>dwt       </td><td>haar      </td><td>euc       </td><td>0.58      </td><td>0.11952286</td></tr>\n",
       "\t<tr><td>1         </td><td>raw       </td><td>NA        </td><td>euc       </td><td>0.58      </td><td>0.14285714</td></tr>\n",
       "\t<tr><td>1         </td><td>tree      </td><td>6         </td><td>manh      </td><td>0.56      </td><td>0.15518258</td></tr>\n",
       "\t<tr><td>1         </td><td>tree      </td><td>12        </td><td>manh      </td><td>0.55      </td><td>0.15551101</td></tr>\n",
       "\t<tr><td>5         </td><td>tree      </td><td>6         </td><td>euc       </td><td>0.53      </td><td>0.14463183</td></tr>\n",
       "\t<tr><td>3         </td><td>raw       </td><td>NA        </td><td>euc       </td><td>0.53      </td><td>0.14603606</td></tr>\n",
       "\t<tr><td>5         </td><td>raw       </td><td>NA        </td><td>euc       </td><td>0.52      </td><td>0.12936264</td></tr>\n",
       "\t<tr><td>5         </td><td>tree      </td><td>12        </td><td>euc       </td><td>0.52      </td><td>0.14142136</td></tr>\n",
       "\t<tr><td>1         </td><td>tree      </td><td>6         </td><td>euc       </td><td>0.52      </td><td>0.15118579</td></tr>\n",
       "\t<tr><td>3         </td><td>tree      </td><td>6         </td><td>euc       </td><td>0.51      </td><td>0.15811388</td></tr>\n",
       "\t<tr><td>1         </td><td>tree      </td><td>12        </td><td>euc       </td><td>0.50      </td><td>0.14568627</td></tr>\n",
       "\t<tr><td>3         </td><td>tree      </td><td>12        </td><td>euc       </td><td>0.50      </td><td>0.15386185</td></tr>\n",
       "</tbody>\n",
       "</table>\n"
      ],
      "text/latex": [
       "\\begin{tabular}{r|llllll}\n",
       " kNNValue & representation & parameter & dist & meanACC & sdACC\\\\\n",
       "\\hline\n",
       "\t 1          & dwt        & la8        & dtw        & 1.00       & 0.00000000\\\\\n",
       "\t 1          & dwt        & haar       & dtw        & 0.99       & 0.03030458\\\\\n",
       "\t 3          & dwt        & haar       & dtw        & 0.99       & 0.03030458\\\\\n",
       "\t 3          & dwt        & la8        & dtw        & 0.99       & 0.03030458\\\\\n",
       "\t 5          & dwt        & haar       & dtw        & 0.94       & 0.06998542\\\\\n",
       "\t 5          & dwt        & la8        & dtw        & 0.93       & 0.07354022\\\\\n",
       "\t 1          & dwt        & la8        & erp        & 0.90       & 0.06998542\\\\\n",
       "\t 1          & dwt        & haar       & erp        & 0.89       & 0.07071068\\\\\n",
       "\t 1          & dwt        & haar       & manh       & 0.85       & 0.07889544\\\\\n",
       "\t 1          & dwt        & la8        & manh       & 0.85       & 0.07889544\\\\\n",
       "\t 1          & dwt        & haar       & euc        & 0.84       & 0.10879676\\\\\n",
       "\t 1          & dwt        & la8        & euc        & 0.84       & 0.10879676\\\\\n",
       "\t 3          & dwt        & haar       & erp        & 0.83       & 0.07626484\\\\\n",
       "\t 3          & dwt        & la8        & erp        & 0.83       & 0.07626484\\\\\n",
       "\t 3          & raw        & NA         & dtw        & 0.82       & 0.11605769\\\\\n",
       "\t 5          & raw        & NA         & dtw        & 0.82       & 0.11780302\\\\\n",
       "\t 5          & dwt        & haar       & erp        & 0.82       & 0.08329931\\\\\n",
       "\t 5          & dwt        & la8        & erp        & 0.82       & 0.08329931\\\\\n",
       "\t 3          & dwt        & haar       & manh       & 0.79       & 0.10151907\\\\\n",
       "\t 3          & dwt        & la8        & manh       & 0.78       & 0.09897433\\\\\n",
       "\t 1          & raw        & NA         & dtw        & 0.74       & 0.11780302\\\\\n",
       "\t 1          & tree       & 6          & dtw        & 0.74       & 0.12777531\\\\\n",
       "\t 1          & tree       & 12         & dtw        & 0.74       & 0.13552619\\\\\n",
       "\t 5          & dwt        & haar       & manh       & 0.73       & 0.10546302\\\\\n",
       "\t 5          & dwt        & la8        & manh       & 0.73       & 0.10546302\\\\\n",
       "\t 5          & tree       & 12         & dtw        & 0.73       & 0.12330483\\\\\n",
       "\t 3          & tree       & 12         & dtw        & 0.72       & 0.12777531\\\\\n",
       "\t 5          & tree       & 6          & dtw        & 0.72       & 0.12616801\\\\\n",
       "\t 3          & tree       & 6          & dtw        & 0.71       & 0.12975644\\\\\n",
       "\t 3          & dwt        & haar       & euc        & 0.70       & 0.12616801\\\\\n",
       "\t 3          & dwt        & la8        & euc        & 0.69       & 0.13131983\\\\\n",
       "\t 5          & tree       & 6          & erp        & 0.69       & 0.12163847\\\\\n",
       "\t 5          & tree       & 12         & erp        & 0.69       & 0.12163847\\\\\n",
       "\t 5          & raw        & NA         & erp        & 0.66       & 0.11952286\\\\\n",
       "\t 3          & raw        & NA         & erp        & 0.66       & 0.13702376\\\\\n",
       "\t 1          & raw        & NA         & erp        & 0.64       & 0.14708043\\\\\n",
       "\t 3          & raw        & NA         & manh       & 0.63       & 0.11823532\\\\\n",
       "\t 3          & tree       & 6          & erp        & 0.62       & 0.13248026\\\\\n",
       "\t 3          & tree       & 6          & manh       & 0.61       & 0.13286482\\\\\n",
       "\t 1          & tree       & 6          & erp        & 0.61       & 0.13887301\\\\\n",
       "\t 3          & tree       & 12         & erp        & 0.61       & 0.12817399\\\\\n",
       "\t 1          & tree       & 12         & erp        & 0.60       & 0.13552619\\\\\n",
       "\t 3          & tree       & 12         & manh       & 0.60       & 0.12936264\\\\\n",
       "\t 5          & tree       & 6          & manh       & 0.60       & 0.13702376\\\\\n",
       "\t 5          & tree       & 12         & manh       & 0.60       & 0.13702376\\\\\n",
       "\t 5          & dwt        & la8        & euc        & 0.59       & 0.11473127\\\\\n",
       "\t 5          & raw        & NA         & manh       & 0.59       & 0.14321384\\\\\n",
       "\t 1          & raw        & NA         & manh       & 0.59       & 0.14603606\\\\\n",
       "\t 5          & dwt        & haar       & euc        & 0.58       & 0.11952286\\\\\n",
       "\t 1          & raw        & NA         & euc        & 0.58       & 0.14285714\\\\\n",
       "\t 1          & tree       & 6          & manh       & 0.56       & 0.15518258\\\\\n",
       "\t 1          & tree       & 12         & manh       & 0.55       & 0.15551101\\\\\n",
       "\t 5          & tree       & 6          & euc        & 0.53       & 0.14463183\\\\\n",
       "\t 3          & raw        & NA         & euc        & 0.53       & 0.14603606\\\\\n",
       "\t 5          & raw        & NA         & euc        & 0.52       & 0.12936264\\\\\n",
       "\t 5          & tree       & 12         & euc        & 0.52       & 0.14142136\\\\\n",
       "\t 1          & tree       & 6          & euc        & 0.52       & 0.15118579\\\\\n",
       "\t 3          & tree       & 6          & euc        & 0.51       & 0.15811388\\\\\n",
       "\t 1          & tree       & 12         & euc        & 0.50       & 0.14568627\\\\\n",
       "\t 3          & tree       & 12         & euc        & 0.50       & 0.15386185\\\\\n",
       "\\end{tabular}\n"
      ],
      "text/markdown": [
       "\n",
       "| kNNValue | representation | parameter | dist | meanACC | sdACC |\n",
       "|---|---|---|---|---|---|\n",
       "| 1          | dwt        | la8        | dtw        | 1.00       | 0.00000000 |\n",
       "| 1          | dwt        | haar       | dtw        | 0.99       | 0.03030458 |\n",
       "| 3          | dwt        | haar       | dtw        | 0.99       | 0.03030458 |\n",
       "| 3          | dwt        | la8        | dtw        | 0.99       | 0.03030458 |\n",
       "| 5          | dwt        | haar       | dtw        | 0.94       | 0.06998542 |\n",
       "| 5          | dwt        | la8        | dtw        | 0.93       | 0.07354022 |\n",
       "| 1          | dwt        | la8        | erp        | 0.90       | 0.06998542 |\n",
       "| 1          | dwt        | haar       | erp        | 0.89       | 0.07071068 |\n",
       "| 1          | dwt        | haar       | manh       | 0.85       | 0.07889544 |\n",
       "| 1          | dwt        | la8        | manh       | 0.85       | 0.07889544 |\n",
       "| 1          | dwt        | haar       | euc        | 0.84       | 0.10879676 |\n",
       "| 1          | dwt        | la8        | euc        | 0.84       | 0.10879676 |\n",
       "| 3          | dwt        | haar       | erp        | 0.83       | 0.07626484 |\n",
       "| 3          | dwt        | la8        | erp        | 0.83       | 0.07626484 |\n",
       "| 3          | raw        | NA         | dtw        | 0.82       | 0.11605769 |\n",
       "| 5          | raw        | NA         | dtw        | 0.82       | 0.11780302 |\n",
       "| 5          | dwt        | haar       | erp        | 0.82       | 0.08329931 |\n",
       "| 5          | dwt        | la8        | erp        | 0.82       | 0.08329931 |\n",
       "| 3          | dwt        | haar       | manh       | 0.79       | 0.10151907 |\n",
       "| 3          | dwt        | la8        | manh       | 0.78       | 0.09897433 |\n",
       "| 1          | raw        | NA         | dtw        | 0.74       | 0.11780302 |\n",
       "| 1          | tree       | 6          | dtw        | 0.74       | 0.12777531 |\n",
       "| 1          | tree       | 12         | dtw        | 0.74       | 0.13552619 |\n",
       "| 5          | dwt        | haar       | manh       | 0.73       | 0.10546302 |\n",
       "| 5          | dwt        | la8        | manh       | 0.73       | 0.10546302 |\n",
       "| 5          | tree       | 12         | dtw        | 0.73       | 0.12330483 |\n",
       "| 3          | tree       | 12         | dtw        | 0.72       | 0.12777531 |\n",
       "| 5          | tree       | 6          | dtw        | 0.72       | 0.12616801 |\n",
       "| 3          | tree       | 6          | dtw        | 0.71       | 0.12975644 |\n",
       "| 3          | dwt        | haar       | euc        | 0.70       | 0.12616801 |\n",
       "| 3          | dwt        | la8        | euc        | 0.69       | 0.13131983 |\n",
       "| 5          | tree       | 6          | erp        | 0.69       | 0.12163847 |\n",
       "| 5          | tree       | 12         | erp        | 0.69       | 0.12163847 |\n",
       "| 5          | raw        | NA         | erp        | 0.66       | 0.11952286 |\n",
       "| 3          | raw        | NA         | erp        | 0.66       | 0.13702376 |\n",
       "| 1          | raw        | NA         | erp        | 0.64       | 0.14708043 |\n",
       "| 3          | raw        | NA         | manh       | 0.63       | 0.11823532 |\n",
       "| 3          | tree       | 6          | erp        | 0.62       | 0.13248026 |\n",
       "| 3          | tree       | 6          | manh       | 0.61       | 0.13286482 |\n",
       "| 1          | tree       | 6          | erp        | 0.61       | 0.13887301 |\n",
       "| 3          | tree       | 12         | erp        | 0.61       | 0.12817399 |\n",
       "| 1          | tree       | 12         | erp        | 0.60       | 0.13552619 |\n",
       "| 3          | tree       | 12         | manh       | 0.60       | 0.12936264 |\n",
       "| 5          | tree       | 6          | manh       | 0.60       | 0.13702376 |\n",
       "| 5          | tree       | 12         | manh       | 0.60       | 0.13702376 |\n",
       "| 5          | dwt        | la8        | euc        | 0.59       | 0.11473127 |\n",
       "| 5          | raw        | NA         | manh       | 0.59       | 0.14321384 |\n",
       "| 1          | raw        | NA         | manh       | 0.59       | 0.14603606 |\n",
       "| 5          | dwt        | haar       | euc        | 0.58       | 0.11952286 |\n",
       "| 1          | raw        | NA         | euc        | 0.58       | 0.14285714 |\n",
       "| 1          | tree       | 6          | manh       | 0.56       | 0.15518258 |\n",
       "| 1          | tree       | 12         | manh       | 0.55       | 0.15551101 |\n",
       "| 5          | tree       | 6          | euc        | 0.53       | 0.14463183 |\n",
       "| 3          | raw        | NA         | euc        | 0.53       | 0.14603606 |\n",
       "| 5          | raw        | NA         | euc        | 0.52       | 0.12936264 |\n",
       "| 5          | tree       | 12         | euc        | 0.52       | 0.14142136 |\n",
       "| 1          | tree       | 6          | euc        | 0.52       | 0.15118579 |\n",
       "| 3          | tree       | 6          | euc        | 0.51       | 0.15811388 |\n",
       "| 1          | tree       | 12         | euc        | 0.50       | 0.14568627 |\n",
       "| 3          | tree       | 12         | euc        | 0.50       | 0.15386185 |\n",
       "\n"
      ],
      "text/plain": [
       "   kNNValue representation parameter dist meanACC sdACC     \n",
       "1  1        dwt            la8       dtw  1.00    0.00000000\n",
       "2  1        dwt            haar      dtw  0.99    0.03030458\n",
       "3  3        dwt            haar      dtw  0.99    0.03030458\n",
       "4  3        dwt            la8       dtw  0.99    0.03030458\n",
       "5  5        dwt            haar      dtw  0.94    0.06998542\n",
       "6  5        dwt            la8       dtw  0.93    0.07354022\n",
       "7  1        dwt            la8       erp  0.90    0.06998542\n",
       "8  1        dwt            haar      erp  0.89    0.07071068\n",
       "9  1        dwt            haar      manh 0.85    0.07889544\n",
       "10 1        dwt            la8       manh 0.85    0.07889544\n",
       "11 1        dwt            haar      euc  0.84    0.10879676\n",
       "12 1        dwt            la8       euc  0.84    0.10879676\n",
       "13 3        dwt            haar      erp  0.83    0.07626484\n",
       "14 3        dwt            la8       erp  0.83    0.07626484\n",
       "15 3        raw            NA        dtw  0.82    0.11605769\n",
       "16 5        raw            NA        dtw  0.82    0.11780302\n",
       "17 5        dwt            haar      erp  0.82    0.08329931\n",
       "18 5        dwt            la8       erp  0.82    0.08329931\n",
       "19 3        dwt            haar      manh 0.79    0.10151907\n",
       "20 3        dwt            la8       manh 0.78    0.09897433\n",
       "21 1        raw            NA        dtw  0.74    0.11780302\n",
       "22 1        tree           6         dtw  0.74    0.12777531\n",
       "23 1        tree           12        dtw  0.74    0.13552619\n",
       "24 5        dwt            haar      manh 0.73    0.10546302\n",
       "25 5        dwt            la8       manh 0.73    0.10546302\n",
       "26 5        tree           12        dtw  0.73    0.12330483\n",
       "27 3        tree           12        dtw  0.72    0.12777531\n",
       "28 5        tree           6         dtw  0.72    0.12616801\n",
       "29 3        tree           6         dtw  0.71    0.12975644\n",
       "30 3        dwt            haar      euc  0.70    0.12616801\n",
       "31 3        dwt            la8       euc  0.69    0.13131983\n",
       "32 5        tree           6         erp  0.69    0.12163847\n",
       "33 5        tree           12        erp  0.69    0.12163847\n",
       "34 5        raw            NA        erp  0.66    0.11952286\n",
       "35 3        raw            NA        erp  0.66    0.13702376\n",
       "36 1        raw            NA        erp  0.64    0.14708043\n",
       "37 3        raw            NA        manh 0.63    0.11823532\n",
       "38 3        tree           6         erp  0.62    0.13248026\n",
       "39 3        tree           6         manh 0.61    0.13286482\n",
       "40 1        tree           6         erp  0.61    0.13887301\n",
       "41 3        tree           12        erp  0.61    0.12817399\n",
       "42 1        tree           12        erp  0.60    0.13552619\n",
       "43 3        tree           12        manh 0.60    0.12936264\n",
       "44 5        tree           6         manh 0.60    0.13702376\n",
       "45 5        tree           12        manh 0.60    0.13702376\n",
       "46 5        dwt            la8       euc  0.59    0.11473127\n",
       "47 5        raw            NA        manh 0.59    0.14321384\n",
       "48 1        raw            NA        manh 0.59    0.14603606\n",
       "49 5        dwt            haar      euc  0.58    0.11952286\n",
       "50 1        raw            NA        euc  0.58    0.14285714\n",
       "51 1        tree           6         manh 0.56    0.15518258\n",
       "52 1        tree           12        manh 0.55    0.15551101\n",
       "53 5        tree           6         euc  0.53    0.14463183\n",
       "54 3        raw            NA        euc  0.53    0.14603606\n",
       "55 5        raw            NA        euc  0.52    0.12936264\n",
       "56 5        tree           12        euc  0.52    0.14142136\n",
       "57 1        tree           6         euc  0.52    0.15118579\n",
       "58 3        tree           6         euc  0.51    0.15811388\n",
       "59 1        tree           12        euc  0.50    0.14568627\n",
       "60 3        tree           12        euc  0.50    0.15386185"
      ]
     },
     "metadata": {},
     "output_type": "display_data"
    }
   ],
   "source": [
    "#running the algorithm\n",
    "dt3_reprTable <- alternativeComparisonFunc(kVector, dt3_long, dt3_classes, cv_indices3, nof_rep, n_fold)\n",
    "dt3_reprTable[order(meanACC, decreasing=T)]"
   ]
  },
  {
   "cell_type": "markdown",
   "id": "billion-crash",
   "metadata": {},
   "source": [
    "The best results have been achieved by dwt representation again. The approach and parameter alternatives can be selected by using the top values of the table above.  "
   ]
  },
  {
   "cell_type": "markdown",
   "id": "absent-penguin",
   "metadata": {},
   "source": [
    " "
   ]
  },
  {
   "cell_type": "markdown",
   "id": "unlimited-result",
   "metadata": {},
   "source": [
    " "
   ]
  },
  {
   "cell_type": "markdown",
   "id": "searching-camel",
   "metadata": {},
   "source": [
    "# Dataset #4  |  Colposcopy Set"
   ]
  },
  {
   "cell_type": "markdown",
   "id": "twenty-large",
   "metadata": {},
   "source": [
    "This set represents the change in intensity values of a pixel region from colposcopic images during the colposcopy test. The task is to classify the nature of diagnosis from a colposcopy between 6 classes. Training data has 100 instances with time series length of 180.  "
   ]
  },
  {
   "cell_type": "code",
   "execution_count": 23,
   "id": "funded-degree",
   "metadata": {},
   "outputs": [
    {
     "name": "stderr",
     "output_type": "stream",
     "text": [
      "Parse with reader=readr : Colposcopy_TRAIN.arff\n",
      "Loading required package: readr\n",
      "header: 0.140000; preproc: 0.010000; data: 0.090000; postproc: 0.000000; total: 0.240000\n"
     ]
    },
    {
     "data": {
      "text/html": [
       "<table>\n",
       "<thead><tr><th scope=col>id</th><th scope=col>class</th><th scope=col>time</th><th scope=col>value</th></tr></thead>\n",
       "<tbody>\n",
       "\t<tr><td>1        </td><td>0        </td><td>1        </td><td>4.4979080</td></tr>\n",
       "\t<tr><td>1        </td><td>0        </td><td>2        </td><td>4.4979080</td></tr>\n",
       "\t<tr><td>1        </td><td>0        </td><td>3        </td><td>7.7928870</td></tr>\n",
       "\t<tr><td>1        </td><td>0        </td><td>4        </td><td>2.1443515</td></tr>\n",
       "\t<tr><td>1        </td><td>0        </td><td>5        </td><td>0.7322176</td></tr>\n",
       "\t<tr><td>1        </td><td>0        </td><td>6        </td><td>5.9100418</td></tr>\n",
       "</tbody>\n",
       "</table>\n"
      ],
      "text/latex": [
       "\\begin{tabular}{r|llll}\n",
       " id & class & time & value\\\\\n",
       "\\hline\n",
       "\t 1         & 0         & 1         & 4.4979080\\\\\n",
       "\t 1         & 0         & 2         & 4.4979080\\\\\n",
       "\t 1         & 0         & 3         & 7.7928870\\\\\n",
       "\t 1         & 0         & 4         & 2.1443515\\\\\n",
       "\t 1         & 0         & 5         & 0.7322176\\\\\n",
       "\t 1         & 0         & 6         & 5.9100418\\\\\n",
       "\\end{tabular}\n"
      ],
      "text/markdown": [
       "\n",
       "| id | class | time | value |\n",
       "|---|---|---|---|\n",
       "| 1         | 0         | 1         | 4.4979080 |\n",
       "| 1         | 0         | 2         | 4.4979080 |\n",
       "| 1         | 0         | 3         | 7.7928870 |\n",
       "| 1         | 0         | 4         | 2.1443515 |\n",
       "| 1         | 0         | 5         | 0.7322176 |\n",
       "| 1         | 0         | 6         | 5.9100418 |\n",
       "\n"
      ],
      "text/plain": [
       "  id class time value    \n",
       "1 1  0     1    4.4979080\n",
       "2 1  0     2    4.4979080\n",
       "3 1  0     3    7.7928870\n",
       "4 1  0     4    2.1443515\n",
       "5 1  0     5    0.7322176\n",
       "6 1  0     6    5.9100418"
      ]
     },
     "metadata": {},
     "output_type": "display_data"
    }
   ],
   "source": [
    "dt4 <- data.table(readARFF(\"Colposcopy_TRAIN.arff\"))\n",
    "setnames(dt4, \"condition\", \"class\")\n",
    "dt4 <- dt4[order(class)]\n",
    "dt4[, class:=as.character(class)]\n",
    "dt4[, id:=as.character(1:.N)]\n",
    "\n",
    "#melting operations\n",
    "dt4_long <- melt(dt4, id.vars=c(\"id\", \"class\"))\n",
    "dt4_long[, time:=as.numeric(gsub(\"\\\\D\", \"\", variable))+1]\n",
    "dt4_long <- dt4_long[, list(id,class,time,value)]\n",
    "dt4_long <- dt4_long[order(id,time)]\n",
    "\n",
    "#actual classes\n",
    "dt4_classes <- dt4$class\n",
    "\n",
    "head(dt4_long)"
   ]
  },
  {
   "cell_type": "code",
   "execution_count": 24,
   "id": "major-argument",
   "metadata": {},
   "outputs": [
    {
     "data": {
      "image/png": "[encoded data removed]",
      "text/plain": [
       "plot without title"
      ]
     },
     "metadata": {},
     "output_type": "display_data"
    }
   ],
   "source": [
    "ggplot(dt4_long, aes(time, value)) + geom_line(aes(color=id)) + facet_grid(class~.) + theme(legend.position=\"none\") + \n",
    "    labs(title=\"Colposcopy Training Set\")"
   ]
  },
  {
   "cell_type": "code",
   "execution_count": 25,
   "id": "victorian-bumper",
   "metadata": {},
   "outputs": [],
   "source": [
    "#creating CV indices\n",
    "set.seed(78)\n",
    "kVector <- c(1,3,5)\n",
    "nof_rep <- 5\n",
    "n_fold <- 10\n",
    "\n",
    "cv_indices4 <- generateCVRuns(dt4_classes, ntimes=nof_rep, nfold=n_fold,\n",
    "                              leaveOneOut=FALSE, stratified=TRUE)"
   ]
  },
  {
   "cell_type": "code",
   "execution_count": 26,
   "id": "broke-seating",
   "metadata": {},
   "outputs": [
    {
     "data": {
      "text/html": [
       "<table>\n",
       "<thead><tr><th scope=col>kNNValue</th><th scope=col>representation</th><th scope=col>parameter</th><th scope=col>dist</th><th scope=col>meanACC</th><th scope=col>sdACC</th></tr></thead>\n",
       "<tbody>\n",
       "\t<tr><td>3        </td><td>dwt      </td><td>haar     </td><td>erp      </td><td>0.4040000</td><td>0.1211093</td></tr>\n",
       "\t<tr><td>3        </td><td>dwt      </td><td>la8      </td><td>erp      </td><td>0.3944444</td><td>0.1287624</td></tr>\n",
       "\t<tr><td>3        </td><td>tree     </td><td>6        </td><td>erp      </td><td>0.3835556</td><td>0.1333190</td></tr>\n",
       "\t<tr><td>5        </td><td>dwt      </td><td>haar     </td><td>manh     </td><td>0.3740000</td><td>0.1421253</td></tr>\n",
       "\t<tr><td>3        </td><td>dwt      </td><td>haar     </td><td>dtw      </td><td>0.3737778</td><td>0.1195600</td></tr>\n",
       "\t<tr><td>3        </td><td>tree     </td><td>12       </td><td>erp      </td><td>0.3733333</td><td>0.1340683</td></tr>\n",
       "\t<tr><td>1        </td><td>dwt      </td><td>haar     </td><td>dtw      </td><td>0.3646667</td><td>0.1334408</td></tr>\n",
       "\t<tr><td>3        </td><td>dwt      </td><td>haar     </td><td>euc      </td><td>0.3642222</td><td>0.1307052</td></tr>\n",
       "\t<tr><td>3        </td><td>dwt      </td><td>la8      </td><td>manh     </td><td>0.3642222</td><td>0.1275442</td></tr>\n",
       "\t<tr><td>1        </td><td>dwt      </td><td>haar     </td><td>erp      </td><td>0.3640000</td><td>0.1320719</td></tr>\n",
       "\t<tr><td>3        </td><td>dwt      </td><td>haar     </td><td>manh     </td><td>0.3640000</td><td>0.1335139</td></tr>\n",
       "\t<tr><td>5        </td><td>dwt      </td><td>haar     </td><td>erp      </td><td>0.3640000</td><td>0.1273518</td></tr>\n",
       "\t<tr><td>3        </td><td>tree     </td><td>6        </td><td>manh     </td><td>0.3635556</td><td>0.1206566</td></tr>\n",
       "\t<tr><td>3        </td><td>tree     </td><td>6        </td><td>euc      </td><td>0.3633333</td><td>0.1328648</td></tr>\n",
       "\t<tr><td>1        </td><td>dwt      </td><td>la8      </td><td>dtw      </td><td>0.3546667</td><td>0.1471462</td></tr>\n",
       "\t<tr><td>5        </td><td>dwt      </td><td>haar     </td><td>euc      </td><td>0.3540000</td><td>0.1167937</td></tr>\n",
       "\t<tr><td>5        </td><td>dwt      </td><td>la8      </td><td>euc      </td><td>0.3540000</td><td>0.1167937</td></tr>\n",
       "\t<tr><td>5        </td><td>dwt      </td><td>la8      </td><td>erp      </td><td>0.3540000</td><td>0.1358049</td></tr>\n",
       "\t<tr><td>5        </td><td>dwt      </td><td>la8      </td><td>manh     </td><td>0.3540000</td><td>0.1412611</td></tr>\n",
       "\t<tr><td>3        </td><td>dwt      </td><td>la8      </td><td>euc      </td><td>0.3537778</td><td>0.1212050</td></tr>\n",
       "\t<tr><td>3        </td><td>tree     </td><td>12       </td><td>euc      </td><td>0.3533333</td><td>0.1365264</td></tr>\n",
       "\t<tr><td>3        </td><td>tree     </td><td>12       </td><td>manh     </td><td>0.3533333</td><td>0.1210519</td></tr>\n",
       "\t<tr><td>1        </td><td>dwt      </td><td>haar     </td><td>manh     </td><td>0.3444444</td><td>0.1410110</td></tr>\n",
       "\t<tr><td>1        </td><td>dwt      </td><td>la8      </td><td>manh     </td><td>0.3444444</td><td>0.1424509</td></tr>\n",
       "\t<tr><td>3        </td><td>dwt      </td><td>la8      </td><td>dtw      </td><td>0.3440000</td><td>0.1183356</td></tr>\n",
       "\t<tr><td>3        </td><td>raw      </td><td>NA       </td><td>euc      </td><td>0.3435556</td><td>0.1515327</td></tr>\n",
       "\t<tr><td>3        </td><td>raw      </td><td>NA       </td><td>erp      </td><td>0.3433333</td><td>0.1274841</td></tr>\n",
       "\t<tr><td>1        </td><td>dwt      </td><td>haar     </td><td>euc      </td><td>0.3346667</td><td>0.1291607</td></tr>\n",
       "\t<tr><td>1        </td><td>dwt      </td><td>la8      </td><td>erp      </td><td>0.3337778</td><td>0.1086104</td></tr>\n",
       "\t<tr><td>3        </td><td>tree     </td><td>6        </td><td>dtw      </td><td>0.3337778</td><td>0.1270428</td></tr>\n",
       "\t<tr><td>3        </td><td>tree     </td><td>12       </td><td>dtw      </td><td>0.3337778</td><td>0.1270428</td></tr>\n",
       "\t<tr><td>1        </td><td>dwt      </td><td>la8      </td><td>euc      </td><td>0.3246667</td><td>0.1337915</td></tr>\n",
       "\t<tr><td>5        </td><td>dwt      </td><td>la8      </td><td>dtw      </td><td>0.3240000</td><td>0.1124939</td></tr>\n",
       "\t<tr><td>3        </td><td>raw      </td><td>NA       </td><td>dtw      </td><td>0.3240000</td><td>0.1351792</td></tr>\n",
       "\t<tr><td>5        </td><td>dwt      </td><td>haar     </td><td>dtw      </td><td>0.3237778</td><td>0.1174176</td></tr>\n",
       "\t<tr><td>1        </td><td>tree     </td><td>12       </td><td>dtw      </td><td>0.3235556</td><td>0.1439752</td></tr>\n",
       "\t<tr><td>1        </td><td>tree     </td><td>6        </td><td>dtw      </td><td>0.3235556</td><td>0.1425506</td></tr>\n",
       "\t<tr><td>1        </td><td>raw      </td><td>NA       </td><td>euc      </td><td>0.3233333</td><td>0.1527319</td></tr>\n",
       "\t<tr><td>1        </td><td>tree     </td><td>6        </td><td>manh     </td><td>0.3231111</td><td>0.1272782</td></tr>\n",
       "\t<tr><td>5        </td><td>raw      </td><td>NA       </td><td>manh     </td><td>0.3135556</td><td>0.1282141</td></tr>\n",
       "\t<tr><td>1        </td><td>tree     </td><td>6        </td><td>euc      </td><td>0.3133333</td><td>0.1314493</td></tr>\n",
       "\t<tr><td>1        </td><td>tree     </td><td>12       </td><td>euc      </td><td>0.3133333</td><td>0.1314493</td></tr>\n",
       "\t<tr><td>3        </td><td>raw      </td><td>NA       </td><td>manh     </td><td>0.3133333</td><td>0.1225619</td></tr>\n",
       "\t<tr><td>1        </td><td>tree     </td><td>6        </td><td>erp      </td><td>0.3131111</td><td>0.1329869</td></tr>\n",
       "\t<tr><td>5        </td><td>tree     </td><td>12       </td><td>manh     </td><td>0.3131111</td><td>0.1148726</td></tr>\n",
       "\t<tr><td>1        </td><td>tree     </td><td>12       </td><td>manh     </td><td>0.3128889</td><td>0.1275456</td></tr>\n",
       "\t<tr><td>5        </td><td>raw      </td><td>NA       </td><td>erp      </td><td>0.3128889</td><td>0.1108241</td></tr>\n",
       "\t<tr><td>5        </td><td>raw      </td><td>NA       </td><td>dtw      </td><td>0.3035556</td><td>0.1280991</td></tr>\n",
       "\t<tr><td>1        </td><td>tree     </td><td>12       </td><td>erp      </td><td>0.3028889</td><td>0.1312730</td></tr>\n",
       "\t<tr><td>1        </td><td>raw      </td><td>NA       </td><td>dtw      </td><td>0.3028889</td><td>0.1384835</td></tr>\n",
       "\t<tr><td>5        </td><td>tree     </td><td>6        </td><td>dtw      </td><td>0.2935556</td><td>0.1099735</td></tr>\n",
       "\t<tr><td>5        </td><td>tree     </td><td>12       </td><td>euc      </td><td>0.2928889</td><td>0.1482536</td></tr>\n",
       "\t<tr><td>5        </td><td>tree     </td><td>12       </td><td>dtw      </td><td>0.2835556</td><td>0.1116820</td></tr>\n",
       "\t<tr><td>1        </td><td>raw      </td><td>NA       </td><td>manh     </td><td>0.2833333</td><td>0.1397051</td></tr>\n",
       "\t<tr><td>5        </td><td>raw      </td><td>NA       </td><td>euc      </td><td>0.2828889</td><td>0.1199901</td></tr>\n",
       "\t<tr><td>5        </td><td>tree     </td><td>6        </td><td>manh     </td><td>0.2726667</td><td>0.1136049</td></tr>\n",
       "\t<tr><td>5        </td><td>tree     </td><td>6        </td><td>euc      </td><td>0.2726667</td><td>0.1472039</td></tr>\n",
       "\t<tr><td>5        </td><td>tree     </td><td>12       </td><td>erp      </td><td>0.2626667</td><td>0.1151808</td></tr>\n",
       "\t<tr><td>1        </td><td>raw      </td><td>NA       </td><td>erp      </td><td>0.2526667</td><td>0.1350011</td></tr>\n",
       "\t<tr><td>5        </td><td>tree     </td><td>6        </td><td>erp      </td><td>0.2524444</td><td>0.1209070</td></tr>\n",
       "</tbody>\n",
       "</table>\n"
      ],
      "text/latex": [
       "\\begin{tabular}{r|llllll}\n",
       " kNNValue & representation & parameter & dist & meanACC & sdACC\\\\\n",
       "\\hline\n",
       "\t 3         & dwt       & haar      & erp       & 0.4040000 & 0.1211093\\\\\n",
       "\t 3         & dwt       & la8       & erp       & 0.3944444 & 0.1287624\\\\\n",
       "\t 3         & tree      & 6         & erp       & 0.3835556 & 0.1333190\\\\\n",
       "\t 5         & dwt       & haar      & manh      & 0.3740000 & 0.1421253\\\\\n",
       "\t 3         & dwt       & haar      & dtw       & 0.3737778 & 0.1195600\\\\\n",
       "\t 3         & tree      & 12        & erp       & 0.3733333 & 0.1340683\\\\\n",
       "\t 1         & dwt       & haar      & dtw       & 0.3646667 & 0.1334408\\\\\n",
       "\t 3         & dwt       & haar      & euc       & 0.3642222 & 0.1307052\\\\\n",
       "\t 3         & dwt       & la8       & manh      & 0.3642222 & 0.1275442\\\\\n",
       "\t 1         & dwt       & haar      & erp       & 0.3640000 & 0.1320719\\\\\n",
       "\t 3         & dwt       & haar      & manh      & 0.3640000 & 0.1335139\\\\\n",
       "\t 5         & dwt       & haar      & erp       & 0.3640000 & 0.1273518\\\\\n",
       "\t 3         & tree      & 6         & manh      & 0.3635556 & 0.1206566\\\\\n",
       "\t 3         & tree      & 6         & euc       & 0.3633333 & 0.1328648\\\\\n",
       "\t 1         & dwt       & la8       & dtw       & 0.3546667 & 0.1471462\\\\\n",
       "\t 5         & dwt       & haar      & euc       & 0.3540000 & 0.1167937\\\\\n",
       "\t 5         & dwt       & la8       & euc       & 0.3540000 & 0.1167937\\\\\n",
       "\t 5         & dwt       & la8       & erp       & 0.3540000 & 0.1358049\\\\\n",
       "\t 5         & dwt       & la8       & manh      & 0.3540000 & 0.1412611\\\\\n",
       "\t 3         & dwt       & la8       & euc       & 0.3537778 & 0.1212050\\\\\n",
       "\t 3         & tree      & 12        & euc       & 0.3533333 & 0.1365264\\\\\n",
       "\t 3         & tree      & 12        & manh      & 0.3533333 & 0.1210519\\\\\n",
       "\t 1         & dwt       & haar      & manh      & 0.3444444 & 0.1410110\\\\\n",
       "\t 1         & dwt       & la8       & manh      & 0.3444444 & 0.1424509\\\\\n",
       "\t 3         & dwt       & la8       & dtw       & 0.3440000 & 0.1183356\\\\\n",
       "\t 3         & raw       & NA        & euc       & 0.3435556 & 0.1515327\\\\\n",
       "\t 3         & raw       & NA        & erp       & 0.3433333 & 0.1274841\\\\\n",
       "\t 1         & dwt       & haar      & euc       & 0.3346667 & 0.1291607\\\\\n",
       "\t 1         & dwt       & la8       & erp       & 0.3337778 & 0.1086104\\\\\n",
       "\t 3         & tree      & 6         & dtw       & 0.3337778 & 0.1270428\\\\\n",
       "\t 3         & tree      & 12        & dtw       & 0.3337778 & 0.1270428\\\\\n",
       "\t 1         & dwt       & la8       & euc       & 0.3246667 & 0.1337915\\\\\n",
       "\t 5         & dwt       & la8       & dtw       & 0.3240000 & 0.1124939\\\\\n",
       "\t 3         & raw       & NA        & dtw       & 0.3240000 & 0.1351792\\\\\n",
       "\t 5         & dwt       & haar      & dtw       & 0.3237778 & 0.1174176\\\\\n",
       "\t 1         & tree      & 12        & dtw       & 0.3235556 & 0.1439752\\\\\n",
       "\t 1         & tree      & 6         & dtw       & 0.3235556 & 0.1425506\\\\\n",
       "\t 1         & raw       & NA        & euc       & 0.3233333 & 0.1527319\\\\\n",
       "\t 1         & tree      & 6         & manh      & 0.3231111 & 0.1272782\\\\\n",
       "\t 5         & raw       & NA        & manh      & 0.3135556 & 0.1282141\\\\\n",
       "\t 1         & tree      & 6         & euc       & 0.3133333 & 0.1314493\\\\\n",
       "\t 1         & tree      & 12        & euc       & 0.3133333 & 0.1314493\\\\\n",
       "\t 3         & raw       & NA        & manh      & 0.3133333 & 0.1225619\\\\\n",
       "\t 1         & tree      & 6         & erp       & 0.3131111 & 0.1329869\\\\\n",
       "\t 5         & tree      & 12        & manh      & 0.3131111 & 0.1148726\\\\\n",
       "\t 1         & tree      & 12        & manh      & 0.3128889 & 0.1275456\\\\\n",
       "\t 5         & raw       & NA        & erp       & 0.3128889 & 0.1108241\\\\\n",
       "\t 5         & raw       & NA        & dtw       & 0.3035556 & 0.1280991\\\\\n",
       "\t 1         & tree      & 12        & erp       & 0.3028889 & 0.1312730\\\\\n",
       "\t 1         & raw       & NA        & dtw       & 0.3028889 & 0.1384835\\\\\n",
       "\t 5         & tree      & 6         & dtw       & 0.2935556 & 0.1099735\\\\\n",
       "\t 5         & tree      & 12        & euc       & 0.2928889 & 0.1482536\\\\\n",
       "\t 5         & tree      & 12        & dtw       & 0.2835556 & 0.1116820\\\\\n",
       "\t 1         & raw       & NA        & manh      & 0.2833333 & 0.1397051\\\\\n",
       "\t 5         & raw       & NA        & euc       & 0.2828889 & 0.1199901\\\\\n",
       "\t 5         & tree      & 6         & manh      & 0.2726667 & 0.1136049\\\\\n",
       "\t 5         & tree      & 6         & euc       & 0.2726667 & 0.1472039\\\\\n",
       "\t 5         & tree      & 12        & erp       & 0.2626667 & 0.1151808\\\\\n",
       "\t 1         & raw       & NA        & erp       & 0.2526667 & 0.1350011\\\\\n",
       "\t 5         & tree      & 6         & erp       & 0.2524444 & 0.1209070\\\\\n",
       "\\end{tabular}\n"
      ],
      "text/markdown": [
       "\n",
       "| kNNValue | representation | parameter | dist | meanACC | sdACC |\n",
       "|---|---|---|---|---|---|\n",
       "| 3         | dwt       | haar      | erp       | 0.4040000 | 0.1211093 |\n",
       "| 3         | dwt       | la8       | erp       | 0.3944444 | 0.1287624 |\n",
       "| 3         | tree      | 6         | erp       | 0.3835556 | 0.1333190 |\n",
       "| 5         | dwt       | haar      | manh      | 0.3740000 | 0.1421253 |\n",
       "| 3         | dwt       | haar      | dtw       | 0.3737778 | 0.1195600 |\n",
       "| 3         | tree      | 12        | erp       | 0.3733333 | 0.1340683 |\n",
       "| 1         | dwt       | haar      | dtw       | 0.3646667 | 0.1334408 |\n",
       "| 3         | dwt       | haar      | euc       | 0.3642222 | 0.1307052 |\n",
       "| 3         | dwt       | la8       | manh      | 0.3642222 | 0.1275442 |\n",
       "| 1         | dwt       | haar      | erp       | 0.3640000 | 0.1320719 |\n",
       "| 3         | dwt       | haar      | manh      | 0.3640000 | 0.1335139 |\n",
       "| 5         | dwt       | haar      | erp       | 0.3640000 | 0.1273518 |\n",
       "| 3         | tree      | 6         | manh      | 0.3635556 | 0.1206566 |\n",
       "| 3         | tree      | 6         | euc       | 0.3633333 | 0.1328648 |\n",
       "| 1         | dwt       | la8       | dtw       | 0.3546667 | 0.1471462 |\n",
       "| 5         | dwt       | haar      | euc       | 0.3540000 | 0.1167937 |\n",
       "| 5         | dwt       | la8       | euc       | 0.3540000 | 0.1167937 |\n",
       "| 5         | dwt       | la8       | erp       | 0.3540000 | 0.1358049 |\n",
       "| 5         | dwt       | la8       | manh      | 0.3540000 | 0.1412611 |\n",
       "| 3         | dwt       | la8       | euc       | 0.3537778 | 0.1212050 |\n",
       "| 3         | tree      | 12        | euc       | 0.3533333 | 0.1365264 |\n",
       "| 3         | tree      | 12        | manh      | 0.3533333 | 0.1210519 |\n",
       "| 1         | dwt       | haar      | manh      | 0.3444444 | 0.1410110 |\n",
       "| 1         | dwt       | la8       | manh      | 0.3444444 | 0.1424509 |\n",
       "| 3         | dwt       | la8       | dtw       | 0.3440000 | 0.1183356 |\n",
       "| 3         | raw       | NA        | euc       | 0.3435556 | 0.1515327 |\n",
       "| 3         | raw       | NA        | erp       | 0.3433333 | 0.1274841 |\n",
       "| 1         | dwt       | haar      | euc       | 0.3346667 | 0.1291607 |\n",
       "| 1         | dwt       | la8       | erp       | 0.3337778 | 0.1086104 |\n",
       "| 3         | tree      | 6         | dtw       | 0.3337778 | 0.1270428 |\n",
       "| 3         | tree      | 12        | dtw       | 0.3337778 | 0.1270428 |\n",
       "| 1         | dwt       | la8       | euc       | 0.3246667 | 0.1337915 |\n",
       "| 5         | dwt       | la8       | dtw       | 0.3240000 | 0.1124939 |\n",
       "| 3         | raw       | NA        | dtw       | 0.3240000 | 0.1351792 |\n",
       "| 5         | dwt       | haar      | dtw       | 0.3237778 | 0.1174176 |\n",
       "| 1         | tree      | 12        | dtw       | 0.3235556 | 0.1439752 |\n",
       "| 1         | tree      | 6         | dtw       | 0.3235556 | 0.1425506 |\n",
       "| 1         | raw       | NA        | euc       | 0.3233333 | 0.1527319 |\n",
       "| 1         | tree      | 6         | manh      | 0.3231111 | 0.1272782 |\n",
       "| 5         | raw       | NA        | manh      | 0.3135556 | 0.1282141 |\n",
       "| 1         | tree      | 6         | euc       | 0.3133333 | 0.1314493 |\n",
       "| 1         | tree      | 12        | euc       | 0.3133333 | 0.1314493 |\n",
       "| 3         | raw       | NA        | manh      | 0.3133333 | 0.1225619 |\n",
       "| 1         | tree      | 6         | erp       | 0.3131111 | 0.1329869 |\n",
       "| 5         | tree      | 12        | manh      | 0.3131111 | 0.1148726 |\n",
       "| 1         | tree      | 12        | manh      | 0.3128889 | 0.1275456 |\n",
       "| 5         | raw       | NA        | erp       | 0.3128889 | 0.1108241 |\n",
       "| 5         | raw       | NA        | dtw       | 0.3035556 | 0.1280991 |\n",
       "| 1         | tree      | 12        | erp       | 0.3028889 | 0.1312730 |\n",
       "| 1         | raw       | NA        | dtw       | 0.3028889 | 0.1384835 |\n",
       "| 5         | tree      | 6         | dtw       | 0.2935556 | 0.1099735 |\n",
       "| 5         | tree      | 12        | euc       | 0.2928889 | 0.1482536 |\n",
       "| 5         | tree      | 12        | dtw       | 0.2835556 | 0.1116820 |\n",
       "| 1         | raw       | NA        | manh      | 0.2833333 | 0.1397051 |\n",
       "| 5         | raw       | NA        | euc       | 0.2828889 | 0.1199901 |\n",
       "| 5         | tree      | 6         | manh      | 0.2726667 | 0.1136049 |\n",
       "| 5         | tree      | 6         | euc       | 0.2726667 | 0.1472039 |\n",
       "| 5         | tree      | 12        | erp       | 0.2626667 | 0.1151808 |\n",
       "| 1         | raw       | NA        | erp       | 0.2526667 | 0.1350011 |\n",
       "| 5         | tree      | 6         | erp       | 0.2524444 | 0.1209070 |\n",
       "\n"
      ],
      "text/plain": [
       "   kNNValue representation parameter dist meanACC   sdACC    \n",
       "1  3        dwt            haar      erp  0.4040000 0.1211093\n",
       "2  3        dwt            la8       erp  0.3944444 0.1287624\n",
       "3  3        tree           6         erp  0.3835556 0.1333190\n",
       "4  5        dwt            haar      manh 0.3740000 0.1421253\n",
       "5  3        dwt            haar      dtw  0.3737778 0.1195600\n",
       "6  3        tree           12        erp  0.3733333 0.1340683\n",
       "7  1        dwt            haar      dtw  0.3646667 0.1334408\n",
       "8  3        dwt            haar      euc  0.3642222 0.1307052\n",
       "9  3        dwt            la8       manh 0.3642222 0.1275442\n",
       "10 1        dwt            haar      erp  0.3640000 0.1320719\n",
       "11 3        dwt            haar      manh 0.3640000 0.1335139\n",
       "12 5        dwt            haar      erp  0.3640000 0.1273518\n",
       "13 3        tree           6         manh 0.3635556 0.1206566\n",
       "14 3        tree           6         euc  0.3633333 0.1328648\n",
       "15 1        dwt            la8       dtw  0.3546667 0.1471462\n",
       "16 5        dwt            haar      euc  0.3540000 0.1167937\n",
       "17 5        dwt            la8       euc  0.3540000 0.1167937\n",
       "18 5        dwt            la8       erp  0.3540000 0.1358049\n",
       "19 5        dwt            la8       manh 0.3540000 0.1412611\n",
       "20 3        dwt            la8       euc  0.3537778 0.1212050\n",
       "21 3        tree           12        euc  0.3533333 0.1365264\n",
       "22 3        tree           12        manh 0.3533333 0.1210519\n",
       "23 1        dwt            haar      manh 0.3444444 0.1410110\n",
       "24 1        dwt            la8       manh 0.3444444 0.1424509\n",
       "25 3        dwt            la8       dtw  0.3440000 0.1183356\n",
       "26 3        raw            NA        euc  0.3435556 0.1515327\n",
       "27 3        raw            NA        erp  0.3433333 0.1274841\n",
       "28 1        dwt            haar      euc  0.3346667 0.1291607\n",
       "29 1        dwt            la8       erp  0.3337778 0.1086104\n",
       "30 3        tree           6         dtw  0.3337778 0.1270428\n",
       "31 3        tree           12        dtw  0.3337778 0.1270428\n",
       "32 1        dwt            la8       euc  0.3246667 0.1337915\n",
       "33 5        dwt            la8       dtw  0.3240000 0.1124939\n",
       "34 3        raw            NA        dtw  0.3240000 0.1351792\n",
       "35 5        dwt            haar      dtw  0.3237778 0.1174176\n",
       "36 1        tree           12        dtw  0.3235556 0.1439752\n",
       "37 1        tree           6         dtw  0.3235556 0.1425506\n",
       "38 1        raw            NA        euc  0.3233333 0.1527319\n",
       "39 1        tree           6         manh 0.3231111 0.1272782\n",
       "40 5        raw            NA        manh 0.3135556 0.1282141\n",
       "41 1        tree           6         euc  0.3133333 0.1314493\n",
       "42 1        tree           12        euc  0.3133333 0.1314493\n",
       "43 3        raw            NA        manh 0.3133333 0.1225619\n",
       "44 1        tree           6         erp  0.3131111 0.1329869\n",
       "45 5        tree           12        manh 0.3131111 0.1148726\n",
       "46 1        tree           12        manh 0.3128889 0.1275456\n",
       "47 5        raw            NA        erp  0.3128889 0.1108241\n",
       "48 5        raw            NA        dtw  0.3035556 0.1280991\n",
       "49 1        tree           12        erp  0.3028889 0.1312730\n",
       "50 1        raw            NA        dtw  0.3028889 0.1384835\n",
       "51 5        tree           6         dtw  0.2935556 0.1099735\n",
       "52 5        tree           12        euc  0.2928889 0.1482536\n",
       "53 5        tree           12        dtw  0.2835556 0.1116820\n",
       "54 1        raw            NA        manh 0.2833333 0.1397051\n",
       "55 5        raw            NA        euc  0.2828889 0.1199901\n",
       "56 5        tree           6         manh 0.2726667 0.1136049\n",
       "57 5        tree           6         euc  0.2726667 0.1472039\n",
       "58 5        tree           12        erp  0.2626667 0.1151808\n",
       "59 1        raw            NA        erp  0.2526667 0.1350011\n",
       "60 5        tree           6         erp  0.2524444 0.1209070"
      ]
     },
     "metadata": {},
     "output_type": "display_data"
    }
   ],
   "source": [
    "#running the algorithm\n",
    "dt4_reprTable <- alternativeComparisonFunc(kVector, dt4_long, dt4_classes, cv_indices4, nof_rep, n_fold)\n",
    "dt4_reprTable[order(meanACC, decreasing=T)]"
   ]
  },
  {
   "cell_type": "markdown",
   "id": "binary-cursor",
   "metadata": {},
   "source": [
    "Using 60 different parameter&method combinations, the best result we obtain is the accuracy level of 0.4040000, which is too low to classify correctly. In order to get a representation with a higher accuracy, some data preprocessing steps will be applied.  \n",
    "  \n",
    "As a first method, the mean value will be subtracted from each instance.  "
   ]
  },
  {
   "cell_type": "code",
   "execution_count": 27,
   "id": "biological-causing",
   "metadata": {},
   "outputs": [
    {
     "data": {
      "image/png": "[encoded data removed]",
      "text/plain": [
       "plot without title"
      ]
     },
     "metadata": {},
     "output_type": "display_data"
    }
   ],
   "source": [
    "dt4_long_2 <- copy(dt4_long)\n",
    "dt4_long_2[, newValue:=value-mean(value)]\n",
    "\n",
    "ggplot(dt4_long_2, aes(time, newValue)) + geom_line(aes(color=id)) + facet_grid(class~.) + theme(legend.position=\"none\") + \n",
    "    labs(title=\"Mean Subtracted Colposcopy Training Set\")"
   ]
  },
  {
   "cell_type": "markdown",
   "id": "common-requirement",
   "metadata": {},
   "source": [
    "Because the algorithm needs \"value\" as the name of column of observations, \"newValue\" will be changed to \"value\".  "
   ]
  },
  {
   "cell_type": "code",
   "execution_count": 28,
   "id": "touched-milton",
   "metadata": {},
   "outputs": [],
   "source": [
    "dt4_long_2[, value:=NULL]\n",
    "setnames(dt4_long_2, \"newValue\", \"value\")"
   ]
  },
  {
   "cell_type": "code",
   "execution_count": 29,
   "id": "documentary-charm",
   "metadata": {},
   "outputs": [
    {
     "data": {
      "text/html": [
       "<table>\n",
       "<thead><tr><th scope=col>kNNValue</th><th scope=col>representation</th><th scope=col>parameter</th><th scope=col>dist</th><th scope=col>meanACC</th><th scope=col>sdACC</th></tr></thead>\n",
       "<tbody>\n",
       "\t<tr><td>1        </td><td>dwt      </td><td>la8      </td><td>erp      </td><td>0.3840000</td><td>0.1355849</td></tr>\n",
       "\t<tr><td>3        </td><td>dwt      </td><td>la8      </td><td>erp      </td><td>0.3742222</td><td>0.1353670</td></tr>\n",
       "\t<tr><td>5        </td><td>dwt      </td><td>haar     </td><td>manh     </td><td>0.3740000</td><td>0.1421253</td></tr>\n",
       "\t<tr><td>3        </td><td>dwt      </td><td>haar     </td><td>dtw      </td><td>0.3737778</td><td>0.1195600</td></tr>\n",
       "\t<tr><td>1        </td><td>dwt      </td><td>haar     </td><td>erp      </td><td>0.3737778</td><td>0.1379357</td></tr>\n",
       "\t<tr><td>1        </td><td>dwt      </td><td>haar     </td><td>dtw      </td><td>0.3646667</td><td>0.1334408</td></tr>\n",
       "</tbody>\n",
       "</table>\n"
      ],
      "text/latex": [
       "\\begin{tabular}{r|llllll}\n",
       " kNNValue & representation & parameter & dist & meanACC & sdACC\\\\\n",
       "\\hline\n",
       "\t 1         & dwt       & la8       & erp       & 0.3840000 & 0.1355849\\\\\n",
       "\t 3         & dwt       & la8       & erp       & 0.3742222 & 0.1353670\\\\\n",
       "\t 5         & dwt       & haar      & manh      & 0.3740000 & 0.1421253\\\\\n",
       "\t 3         & dwt       & haar      & dtw       & 0.3737778 & 0.1195600\\\\\n",
       "\t 1         & dwt       & haar      & erp       & 0.3737778 & 0.1379357\\\\\n",
       "\t 1         & dwt       & haar      & dtw       & 0.3646667 & 0.1334408\\\\\n",
       "\\end{tabular}\n"
      ],
      "text/markdown": [
       "\n",
       "| kNNValue | representation | parameter | dist | meanACC | sdACC |\n",
       "|---|---|---|---|---|---|\n",
       "| 1         | dwt       | la8       | erp       | 0.3840000 | 0.1355849 |\n",
       "| 3         | dwt       | la8       | erp       | 0.3742222 | 0.1353670 |\n",
       "| 5         | dwt       | haar      | manh      | 0.3740000 | 0.1421253 |\n",
       "| 3         | dwt       | haar      | dtw       | 0.3737778 | 0.1195600 |\n",
       "| 1         | dwt       | haar      | erp       | 0.3737778 | 0.1379357 |\n",
       "| 1         | dwt       | haar      | dtw       | 0.3646667 | 0.1334408 |\n",
       "\n"
      ],
      "text/plain": [
       "  kNNValue representation parameter dist meanACC   sdACC    \n",
       "1 1        dwt            la8       erp  0.3840000 0.1355849\n",
       "2 3        dwt            la8       erp  0.3742222 0.1353670\n",
       "3 5        dwt            haar      manh 0.3740000 0.1421253\n",
       "4 3        dwt            haar      dtw  0.3737778 0.1195600\n",
       "5 1        dwt            haar      erp  0.3737778 0.1379357\n",
       "6 1        dwt            haar      dtw  0.3646667 0.1334408"
      ]
     },
     "metadata": {},
     "output_type": "display_data"
    }
   ],
   "source": [
    "#running the algorithm again\n",
    "dt4_reprTable_2 <- alternativeComparisonFunc(kVector, dt4_long_2, dt4_classes, cv_indices4, nof_rep, n_fold)\n",
    "head(dt4_reprTable_2[order(meanACC, decreasing=T)])"
   ]
  },
  {
   "cell_type": "markdown",
   "id": "practical-token",
   "metadata": {},
   "source": [
    "The best result we obtain is less than 0.4040000. Let's try another approach. Now, lagged values of the observations will be subtracted from each observation and the difference will be used to build models.  "
   ]
  },
  {
   "cell_type": "code",
   "execution_count": 30,
   "id": "jewish-classification",
   "metadata": {},
   "outputs": [
    {
     "data": {
      "image/png": "[encoded data removed]",
      "text/plain": [
       "plot without title"
      ]
     },
     "metadata": {},
     "output_type": "display_data"
    }
   ],
   "source": [
    "dt4_long_3 <- copy(dt4_long)\n",
    "dt4_long_3[, newValue:=c(0, diff(value, 1))]\n",
    "\n",
    "ggplot(dt4_long_3, aes(time, newValue)) + geom_line(aes(color=id)) + facet_grid(class~.) + theme(legend.position=\"none\") + \n",
    "    labs(title=\"Lag1 Subtracted Colposcopy Training Set\")"
   ]
  },
  {
   "cell_type": "markdown",
   "id": "offshore-truth",
   "metadata": {},
   "source": [
    "Again, the column name will be changed before running the algorithm.   "
   ]
  },
  {
   "cell_type": "code",
   "execution_count": 31,
   "id": "reasonable-ensemble",
   "metadata": {},
   "outputs": [],
   "source": [
    "dt4_long_3[, value:=NULL]\n",
    "setnames(dt4_long_3, \"newValue\", \"value\")"
   ]
  },
  {
   "cell_type": "code",
   "execution_count": 32,
   "id": "exceptional-workplace",
   "metadata": {},
   "outputs": [
    {
     "data": {
      "text/html": [
       "<table>\n",
       "<thead><tr><th scope=col>kNNValue</th><th scope=col>representation</th><th scope=col>parameter</th><th scope=col>dist</th><th scope=col>meanACC</th><th scope=col>sdACC</th></tr></thead>\n",
       "<tbody>\n",
       "\t<tr><td>1        </td><td>dwt      </td><td>la8      </td><td>erp      </td><td>0.3840000</td><td>0.1355849</td></tr>\n",
       "\t<tr><td>3        </td><td>dwt      </td><td>la8      </td><td>erp      </td><td>0.3742222</td><td>0.1353670</td></tr>\n",
       "\t<tr><td>5        </td><td>dwt      </td><td>haar     </td><td>manh     </td><td>0.3740000</td><td>0.1421253</td></tr>\n",
       "\t<tr><td>3        </td><td>dwt      </td><td>haar     </td><td>dtw      </td><td>0.3737778</td><td>0.1195600</td></tr>\n",
       "\t<tr><td>1        </td><td>dwt      </td><td>haar     </td><td>erp      </td><td>0.3737778</td><td>0.1379357</td></tr>\n",
       "\t<tr><td>1        </td><td>dwt      </td><td>haar     </td><td>dtw      </td><td>0.3646667</td><td>0.1334408</td></tr>\n",
       "</tbody>\n",
       "</table>\n"
      ],
      "text/latex": [
       "\\begin{tabular}{r|llllll}\n",
       " kNNValue & representation & parameter & dist & meanACC & sdACC\\\\\n",
       "\\hline\n",
       "\t 1         & dwt       & la8       & erp       & 0.3840000 & 0.1355849\\\\\n",
       "\t 3         & dwt       & la8       & erp       & 0.3742222 & 0.1353670\\\\\n",
       "\t 5         & dwt       & haar      & manh      & 0.3740000 & 0.1421253\\\\\n",
       "\t 3         & dwt       & haar      & dtw       & 0.3737778 & 0.1195600\\\\\n",
       "\t 1         & dwt       & haar      & erp       & 0.3737778 & 0.1379357\\\\\n",
       "\t 1         & dwt       & haar      & dtw       & 0.3646667 & 0.1334408\\\\\n",
       "\\end{tabular}\n"
      ],
      "text/markdown": [
       "\n",
       "| kNNValue | representation | parameter | dist | meanACC | sdACC |\n",
       "|---|---|---|---|---|---|\n",
       "| 1         | dwt       | la8       | erp       | 0.3840000 | 0.1355849 |\n",
       "| 3         | dwt       | la8       | erp       | 0.3742222 | 0.1353670 |\n",
       "| 5         | dwt       | haar      | manh      | 0.3740000 | 0.1421253 |\n",
       "| 3         | dwt       | haar      | dtw       | 0.3737778 | 0.1195600 |\n",
       "| 1         | dwt       | haar      | erp       | 0.3737778 | 0.1379357 |\n",
       "| 1         | dwt       | haar      | dtw       | 0.3646667 | 0.1334408 |\n",
       "\n"
      ],
      "text/plain": [
       "  kNNValue representation parameter dist meanACC   sdACC    \n",
       "1 1        dwt            la8       erp  0.3840000 0.1355849\n",
       "2 3        dwt            la8       erp  0.3742222 0.1353670\n",
       "3 5        dwt            haar      manh 0.3740000 0.1421253\n",
       "4 3        dwt            haar      dtw  0.3737778 0.1195600\n",
       "5 1        dwt            haar      erp  0.3737778 0.1379357\n",
       "6 1        dwt            haar      dtw  0.3646667 0.1334408"
      ]
     },
     "metadata": {},
     "output_type": "display_data"
    }
   ],
   "source": [
    "#running the algorithm again\n",
    "dt4_reprTable_3 <- alternativeComparisonFunc(kVector, dt4_long_2, dt4_classes, cv_indices4, nof_rep, n_fold)\n",
    "head(dt4_reprTable_3[order(meanACC, decreasing=T)])"
   ]
  },
  {
   "cell_type": "markdown",
   "id": "white-slide",
   "metadata": {},
   "source": [
    "The data manipulations cannot help us get a better accuracy value. The accuracy value of 0.4040000 is still the best we got. It was obtained by dwt representation using \"haar\" method, erp distance, and k value of 3.  "
   ]
  },
  {
   "cell_type": "markdown",
   "id": "angry-extreme",
   "metadata": {},
   "source": [
    " "
   ]
  },
  {
   "cell_type": "markdown",
   "id": "otherwise-austria",
   "metadata": {},
   "source": [
    " "
   ]
  },
  {
   "cell_type": "markdown",
   "id": "human-terry",
   "metadata": {},
   "source": [
    "# Dataset #5  |  Plane Set"
   ]
  },
  {
   "cell_type": "markdown",
   "id": "inclusive-excerpt",
   "metadata": {},
   "source": [
    "The dataset consists of outlines of planes for 6 different plane types. The task is to classify the planes. Training data has 105 instances with time series length of 144.  "
   ]
  },
  {
   "cell_type": "code",
   "execution_count": 33,
   "id": "subject-argentina",
   "metadata": {},
   "outputs": [
    {
     "data": {
      "text/html": [
       "<table>\n",
       "<thead><tr><th scope=col>id</th><th scope=col>class</th><th scope=col>time</th><th scope=col>value</th></tr></thead>\n",
       "<tbody>\n",
       "\t<tr><td>1       </td><td>1       </td><td>1       </td><td>2.483940</td></tr>\n",
       "\t<tr><td>1       </td><td>1       </td><td>2       </td><td>2.276286</td></tr>\n",
       "\t<tr><td>1       </td><td>1       </td><td>3       </td><td>2.067516</td></tr>\n",
       "\t<tr><td>1       </td><td>1       </td><td>4       </td><td>1.921893</td></tr>\n",
       "\t<tr><td>1       </td><td>1       </td><td>5       </td><td>1.718775</td></tr>\n",
       "\t<tr><td>1       </td><td>1       </td><td>6       </td><td>1.508428</td></tr>\n",
       "</tbody>\n",
       "</table>\n"
      ],
      "text/latex": [
       "\\begin{tabular}{r|llll}\n",
       " id & class & time & value\\\\\n",
       "\\hline\n",
       "\t 1        & 1        & 1        & 2.483940\\\\\n",
       "\t 1        & 1        & 2        & 2.276286\\\\\n",
       "\t 1        & 1        & 3        & 2.067516\\\\\n",
       "\t 1        & 1        & 4        & 1.921893\\\\\n",
       "\t 1        & 1        & 5        & 1.718775\\\\\n",
       "\t 1        & 1        & 6        & 1.508428\\\\\n",
       "\\end{tabular}\n"
      ],
      "text/markdown": [
       "\n",
       "| id | class | time | value |\n",
       "|---|---|---|---|\n",
       "| 1        | 1        | 1        | 2.483940 |\n",
       "| 1        | 1        | 2        | 2.276286 |\n",
       "| 1        | 1        | 3        | 2.067516 |\n",
       "| 1        | 1        | 4        | 1.921893 |\n",
       "| 1        | 1        | 5        | 1.718775 |\n",
       "| 1        | 1        | 6        | 1.508428 |\n",
       "\n"
      ],
      "text/plain": [
       "  id class time value   \n",
       "1 1  1     1    2.483940\n",
       "2 1  1     2    2.276286\n",
       "3 1  1     3    2.067516\n",
       "4 1  1     4    1.921893\n",
       "5 1  1     5    1.718775\n",
       "6 1  1     6    1.508428"
      ]
     },
     "metadata": {},
     "output_type": "display_data"
    }
   ],
   "source": [
    "dt5 <- fread(\"Plane_TRAIN.txt\")\n",
    "setnames(dt5, \"V1\", \"class\")\n",
    "dt5 <- dt5[order(class)]\n",
    "dt5[, class:=as.character(class)]\n",
    "dt5[, id:=as.character(1:.N)]\n",
    "\n",
    "#melting operations\n",
    "dt5_long <- melt(dt5, id.vars=c(\"id\", \"class\"))\n",
    "dt5_long[, time:=as.numeric(gsub(\"\\\\D\", \"\", variable))-1]\n",
    "dt5_long <- dt5_long[, list(id,class,time,value)]\n",
    "dt5_long <- dt5_long[order(id,time)]\n",
    "\n",
    "#actual classes\n",
    "dt5_classes <- dt5$class\n",
    "\n",
    "head(dt5_long)"
   ]
  },
  {
   "cell_type": "code",
   "execution_count": 34,
   "id": "minor-strike",
   "metadata": {},
   "outputs": [
    {
     "data": {
      "image/png": "[encoded data removed]",
      "text/plain": [
       "plot without title"
      ]
     },
     "metadata": {},
     "output_type": "display_data"
    }
   ],
   "source": [
    "ggplot(dt5_long, aes(time, value)) + geom_line(aes(color=id)) + facet_grid(class~.) + theme(legend.position=\"none\") + \n",
    "    labs(title=\"Plane Training Set\")"
   ]
  },
  {
   "cell_type": "code",
   "execution_count": 35,
   "id": "banner-minimum",
   "metadata": {},
   "outputs": [],
   "source": [
    "#creating CV indices\n",
    "set.seed(88)\n",
    "kVector <- c(1,3,5)\n",
    "nof_rep <- 5\n",
    "n_fold <- 10\n",
    "\n",
    "cv_indices5 <- generateCVRuns(dt5_classes, ntimes=nof_rep, nfold=n_fold,\n",
    "                              leaveOneOut=FALSE, stratified=TRUE)"
   ]
  },
  {
   "cell_type": "code",
   "execution_count": 36,
   "id": "traditional-wedding",
   "metadata": {},
   "outputs": [
    {
     "data": {
      "text/html": [
       "<table>\n",
       "<thead><tr><th scope=col>kNNValue</th><th scope=col>representation</th><th scope=col>parameter</th><th scope=col>dist</th><th scope=col>meanACC</th><th scope=col>sdACC</th></tr></thead>\n",
       "<tbody>\n",
       "\t<tr><td>1         </td><td>dwt       </td><td>haar      </td><td>dtw       </td><td>1.0000000 </td><td>0.00000000</td></tr>\n",
       "\t<tr><td>1         </td><td>dwt       </td><td>la8       </td><td>dtw       </td><td>1.0000000 </td><td>0.00000000</td></tr>\n",
       "\t<tr><td>3         </td><td>dwt       </td><td>haar      </td><td>dtw       </td><td>1.0000000 </td><td>0.00000000</td></tr>\n",
       "\t<tr><td>3         </td><td>dwt       </td><td>la8       </td><td>dtw       </td><td>1.0000000 </td><td>0.00000000</td></tr>\n",
       "\t<tr><td>5         </td><td>dwt       </td><td>haar      </td><td>dtw       </td><td>1.0000000 </td><td>0.00000000</td></tr>\n",
       "\t<tr><td>5         </td><td>dwt       </td><td>la8       </td><td>dtw       </td><td>1.0000000 </td><td>0.00000000</td></tr>\n",
       "\t<tr><td>5         </td><td>dwt       </td><td>haar      </td><td>erp       </td><td>1.0000000 </td><td>0.00000000</td></tr>\n",
       "\t<tr><td>5         </td><td>dwt       </td><td>la8       </td><td>erp       </td><td>1.0000000 </td><td>0.00000000</td></tr>\n",
       "\t<tr><td>1         </td><td>dwt       </td><td>haar      </td><td>erp       </td><td>0.9905455 </td><td>0.02868690</td></tr>\n",
       "\t<tr><td>1         </td><td>dwt       </td><td>la8       </td><td>erp       </td><td>0.9905455 </td><td>0.02868690</td></tr>\n",
       "\t<tr><td>3         </td><td>dwt       </td><td>haar      </td><td>erp       </td><td>0.9905455 </td><td>0.02868690</td></tr>\n",
       "\t<tr><td>3         </td><td>dwt       </td><td>la8       </td><td>erp       </td><td>0.9905455 </td><td>0.02868690</td></tr>\n",
       "\t<tr><td>3         </td><td>dwt       </td><td>haar      </td><td>euc       </td><td>0.9900000 </td><td>0.03030458</td></tr>\n",
       "\t<tr><td>3         </td><td>dwt       </td><td>la8       </td><td>euc       </td><td>0.9900000 </td><td>0.03030458</td></tr>\n",
       "\t<tr><td>3         </td><td>dwt       </td><td>haar      </td><td>manh      </td><td>0.9900000 </td><td>0.03030458</td></tr>\n",
       "\t<tr><td>3         </td><td>dwt       </td><td>la8       </td><td>manh      </td><td>0.9900000 </td><td>0.03030458</td></tr>\n",
       "\t<tr><td>5         </td><td>dwt       </td><td>haar      </td><td>euc       </td><td>0.9900000 </td><td>0.03030458</td></tr>\n",
       "\t<tr><td>5         </td><td>dwt       </td><td>la8       </td><td>euc       </td><td>0.9900000 </td><td>0.03030458</td></tr>\n",
       "\t<tr><td>5         </td><td>dwt       </td><td>haar      </td><td>manh      </td><td>0.9712727 </td><td>0.04877864</td></tr>\n",
       "\t<tr><td>5         </td><td>dwt       </td><td>la8       </td><td>manh      </td><td>0.9712727 </td><td>0.04877864</td></tr>\n",
       "\t<tr><td>1         </td><td>dwt       </td><td>haar      </td><td>euc       </td><td>0.9709091 </td><td>0.04495083</td></tr>\n",
       "\t<tr><td>1         </td><td>dwt       </td><td>la8       </td><td>euc       </td><td>0.9709091 </td><td>0.04495083</td></tr>\n",
       "\t<tr><td>1         </td><td>dwt       </td><td>haar      </td><td>manh      </td><td>0.9709091 </td><td>0.04495083</td></tr>\n",
       "\t<tr><td>1         </td><td>dwt       </td><td>la8       </td><td>manh      </td><td>0.9709091 </td><td>0.04495083</td></tr>\n",
       "\t<tr><td>5         </td><td>raw       </td><td>NA        </td><td>dtw       </td><td>0.7441818 </td><td>0.14090771</td></tr>\n",
       "\t<tr><td>5         </td><td>raw       </td><td>NA        </td><td>erp       </td><td>0.7252727 </td><td>0.13520585</td></tr>\n",
       "\t<tr><td>5         </td><td>tree      </td><td>12        </td><td>manh      </td><td>0.6965455 </td><td>0.12301231</td></tr>\n",
       "\t<tr><td>5         </td><td>raw       </td><td>NA        </td><td>euc       </td><td>0.6874545 </td><td>0.13297446</td></tr>\n",
       "\t<tr><td>3         </td><td>raw       </td><td>NA        </td><td>dtw       </td><td>0.6778182 </td><td>0.14398797</td></tr>\n",
       "\t<tr><td>5         </td><td>tree      </td><td>12        </td><td>erp       </td><td>0.6778182 </td><td>0.13845837</td></tr>\n",
       "\t<tr><td>5         </td><td>raw       </td><td>NA        </td><td>manh      </td><td>0.6776364 </td><td>0.12371396</td></tr>\n",
       "\t<tr><td>5         </td><td>tree      </td><td>12        </td><td>euc       </td><td>0.6774545 </td><td>0.12529930</td></tr>\n",
       "\t<tr><td>5         </td><td>tree      </td><td>6         </td><td>erp       </td><td>0.6685455 </td><td>0.13929696</td></tr>\n",
       "\t<tr><td>5         </td><td>tree      </td><td>12        </td><td>dtw       </td><td>0.6683636 </td><td>0.13224121</td></tr>\n",
       "\t<tr><td>5         </td><td>tree      </td><td>6         </td><td>euc       </td><td>0.6585455 </td><td>0.12901223</td></tr>\n",
       "\t<tr><td>1         </td><td>raw       </td><td>NA        </td><td>dtw       </td><td>0.6580000 </td><td>0.11608515</td></tr>\n",
       "\t<tr><td>3         </td><td>raw       </td><td>NA        </td><td>euc       </td><td>0.6498182 </td><td>0.13478042</td></tr>\n",
       "\t<tr><td>3         </td><td>raw       </td><td>NA        </td><td>manh      </td><td>0.6490909 </td><td>0.12518834</td></tr>\n",
       "\t<tr><td>5         </td><td>tree      </td><td>6         </td><td>manh      </td><td>0.6403636 </td><td>0.14175680</td></tr>\n",
       "\t<tr><td>5         </td><td>tree      </td><td>6         </td><td>dtw       </td><td>0.6394545 </td><td>0.12485931</td></tr>\n",
       "\t<tr><td>3         </td><td>tree      </td><td>12        </td><td>erp       </td><td>0.6394545 </td><td>0.12457531</td></tr>\n",
       "\t<tr><td>3         </td><td>raw       </td><td>NA        </td><td>erp       </td><td>0.6390909 </td><td>0.11737630</td></tr>\n",
       "\t<tr><td>3         </td><td>tree      </td><td>6         </td><td>erp       </td><td>0.6303636 </td><td>0.13150414</td></tr>\n",
       "\t<tr><td>3         </td><td>tree      </td><td>12        </td><td>manh      </td><td>0.6301818 </td><td>0.12530200</td></tr>\n",
       "\t<tr><td>3         </td><td>tree      </td><td>12        </td><td>dtw       </td><td>0.6298182 </td><td>0.14472265</td></tr>\n",
       "\t<tr><td>3         </td><td>tree      </td><td>6         </td><td>dtw       </td><td>0.6205455 </td><td>0.13114710</td></tr>\n",
       "\t<tr><td>3         </td><td>tree      </td><td>12        </td><td>euc       </td><td>0.6116364 </td><td>0.13001343</td></tr>\n",
       "\t<tr><td>3         </td><td>tree      </td><td>6         </td><td>euc       </td><td>0.6016364 </td><td>0.13609361</td></tr>\n",
       "\t<tr><td>3         </td><td>tree      </td><td>6         </td><td>manh      </td><td>0.5829091 </td><td>0.14670888</td></tr>\n",
       "\t<tr><td>1         </td><td>tree      </td><td>12        </td><td>erp       </td><td>0.5812727 </td><td>0.11015881</td></tr>\n",
       "\t<tr><td>1         </td><td>tree      </td><td>12        </td><td>dtw       </td><td>0.5720000 </td><td>0.13857624</td></tr>\n",
       "\t<tr><td>1         </td><td>raw       </td><td>NA        </td><td>erp       </td><td>0.5718182 </td><td>0.14367241</td></tr>\n",
       "\t<tr><td>1         </td><td>tree      </td><td>6         </td><td>erp       </td><td>0.5532727 </td><td>0.13055676</td></tr>\n",
       "\t<tr><td>1         </td><td>tree      </td><td>12        </td><td>manh      </td><td>0.5530909 </td><td>0.14161634</td></tr>\n",
       "\t<tr><td>1         </td><td>tree      </td><td>12        </td><td>euc       </td><td>0.5525455 </td><td>0.13347326</td></tr>\n",
       "\t<tr><td>1         </td><td>tree      </td><td>6         </td><td>dtw       </td><td>0.5432727 </td><td>0.12022018</td></tr>\n",
       "\t<tr><td>1         </td><td>tree      </td><td>6         </td><td>euc       </td><td>0.5345455 </td><td>0.14902845</td></tr>\n",
       "\t<tr><td>1         </td><td>tree      </td><td>6         </td><td>manh      </td><td>0.5341818 </td><td>0.13669792</td></tr>\n",
       "\t<tr><td>1         </td><td>raw       </td><td>NA        </td><td>euc       </td><td>0.4960000 </td><td>0.17325045</td></tr>\n",
       "\t<tr><td>1         </td><td>raw       </td><td>NA        </td><td>manh      </td><td>0.4863636 </td><td>0.16052757</td></tr>\n",
       "</tbody>\n",
       "</table>\n"
      ],
      "text/latex": [
       "\\begin{tabular}{r|llllll}\n",
       " kNNValue & representation & parameter & dist & meanACC & sdACC\\\\\n",
       "\\hline\n",
       "\t 1          & dwt        & haar       & dtw        & 1.0000000  & 0.00000000\\\\\n",
       "\t 1          & dwt        & la8        & dtw        & 1.0000000  & 0.00000000\\\\\n",
       "\t 3          & dwt        & haar       & dtw        & 1.0000000  & 0.00000000\\\\\n",
       "\t 3          & dwt        & la8        & dtw        & 1.0000000  & 0.00000000\\\\\n",
       "\t 5          & dwt        & haar       & dtw        & 1.0000000  & 0.00000000\\\\\n",
       "\t 5          & dwt        & la8        & dtw        & 1.0000000  & 0.00000000\\\\\n",
       "\t 5          & dwt        & haar       & erp        & 1.0000000  & 0.00000000\\\\\n",
       "\t 5          & dwt        & la8        & erp        & 1.0000000  & 0.00000000\\\\\n",
       "\t 1          & dwt        & haar       & erp        & 0.9905455  & 0.02868690\\\\\n",
       "\t 1          & dwt        & la8        & erp        & 0.9905455  & 0.02868690\\\\\n",
       "\t 3          & dwt        & haar       & erp        & 0.9905455  & 0.02868690\\\\\n",
       "\t 3          & dwt        & la8        & erp        & 0.9905455  & 0.02868690\\\\\n",
       "\t 3          & dwt        & haar       & euc        & 0.9900000  & 0.03030458\\\\\n",
       "\t 3          & dwt        & la8        & euc        & 0.9900000  & 0.03030458\\\\\n",
       "\t 3          & dwt        & haar       & manh       & 0.9900000  & 0.03030458\\\\\n",
       "\t 3          & dwt        & la8        & manh       & 0.9900000  & 0.03030458\\\\\n",
       "\t 5          & dwt        & haar       & euc        & 0.9900000  & 0.03030458\\\\\n",
       "\t 5          & dwt        & la8        & euc        & 0.9900000  & 0.03030458\\\\\n",
       "\t 5          & dwt        & haar       & manh       & 0.9712727  & 0.04877864\\\\\n",
       "\t 5          & dwt        & la8        & manh       & 0.9712727  & 0.04877864\\\\\n",
       "\t 1          & dwt        & haar       & euc        & 0.9709091  & 0.04495083\\\\\n",
       "\t 1          & dwt        & la8        & euc        & 0.9709091  & 0.04495083\\\\\n",
       "\t 1          & dwt        & haar       & manh       & 0.9709091  & 0.04495083\\\\\n",
       "\t 1          & dwt        & la8        & manh       & 0.9709091  & 0.04495083\\\\\n",
       "\t 5          & raw        & NA         & dtw        & 0.7441818  & 0.14090771\\\\\n",
       "\t 5          & raw        & NA         & erp        & 0.7252727  & 0.13520585\\\\\n",
       "\t 5          & tree       & 12         & manh       & 0.6965455  & 0.12301231\\\\\n",
       "\t 5          & raw        & NA         & euc        & 0.6874545  & 0.13297446\\\\\n",
       "\t 3          & raw        & NA         & dtw        & 0.6778182  & 0.14398797\\\\\n",
       "\t 5          & tree       & 12         & erp        & 0.6778182  & 0.13845837\\\\\n",
       "\t 5          & raw        & NA         & manh       & 0.6776364  & 0.12371396\\\\\n",
       "\t 5          & tree       & 12         & euc        & 0.6774545  & 0.12529930\\\\\n",
       "\t 5          & tree       & 6          & erp        & 0.6685455  & 0.13929696\\\\\n",
       "\t 5          & tree       & 12         & dtw        & 0.6683636  & 0.13224121\\\\\n",
       "\t 5          & tree       & 6          & euc        & 0.6585455  & 0.12901223\\\\\n",
       "\t 1          & raw        & NA         & dtw        & 0.6580000  & 0.11608515\\\\\n",
       "\t 3          & raw        & NA         & euc        & 0.6498182  & 0.13478042\\\\\n",
       "\t 3          & raw        & NA         & manh       & 0.6490909  & 0.12518834\\\\\n",
       "\t 5          & tree       & 6          & manh       & 0.6403636  & 0.14175680\\\\\n",
       "\t 5          & tree       & 6          & dtw        & 0.6394545  & 0.12485931\\\\\n",
       "\t 3          & tree       & 12         & erp        & 0.6394545  & 0.12457531\\\\\n",
       "\t 3          & raw        & NA         & erp        & 0.6390909  & 0.11737630\\\\\n",
       "\t 3          & tree       & 6          & erp        & 0.6303636  & 0.13150414\\\\\n",
       "\t 3          & tree       & 12         & manh       & 0.6301818  & 0.12530200\\\\\n",
       "\t 3          & tree       & 12         & dtw        & 0.6298182  & 0.14472265\\\\\n",
       "\t 3          & tree       & 6          & dtw        & 0.6205455  & 0.13114710\\\\\n",
       "\t 3          & tree       & 12         & euc        & 0.6116364  & 0.13001343\\\\\n",
       "\t 3          & tree       & 6          & euc        & 0.6016364  & 0.13609361\\\\\n",
       "\t 3          & tree       & 6          & manh       & 0.5829091  & 0.14670888\\\\\n",
       "\t 1          & tree       & 12         & erp        & 0.5812727  & 0.11015881\\\\\n",
       "\t 1          & tree       & 12         & dtw        & 0.5720000  & 0.13857624\\\\\n",
       "\t 1          & raw        & NA         & erp        & 0.5718182  & 0.14367241\\\\\n",
       "\t 1          & tree       & 6          & erp        & 0.5532727  & 0.13055676\\\\\n",
       "\t 1          & tree       & 12         & manh       & 0.5530909  & 0.14161634\\\\\n",
       "\t 1          & tree       & 12         & euc        & 0.5525455  & 0.13347326\\\\\n",
       "\t 1          & tree       & 6          & dtw        & 0.5432727  & 0.12022018\\\\\n",
       "\t 1          & tree       & 6          & euc        & 0.5345455  & 0.14902845\\\\\n",
       "\t 1          & tree       & 6          & manh       & 0.5341818  & 0.13669792\\\\\n",
       "\t 1          & raw        & NA         & euc        & 0.4960000  & 0.17325045\\\\\n",
       "\t 1          & raw        & NA         & manh       & 0.4863636  & 0.16052757\\\\\n",
       "\\end{tabular}\n"
      ],
      "text/markdown": [
       "\n",
       "| kNNValue | representation | parameter | dist | meanACC | sdACC |\n",
       "|---|---|---|---|---|---|\n",
       "| 1          | dwt        | haar       | dtw        | 1.0000000  | 0.00000000 |\n",
       "| 1          | dwt        | la8        | dtw        | 1.0000000  | 0.00000000 |\n",
       "| 3          | dwt        | haar       | dtw        | 1.0000000  | 0.00000000 |\n",
       "| 3          | dwt        | la8        | dtw        | 1.0000000  | 0.00000000 |\n",
       "| 5          | dwt        | haar       | dtw        | 1.0000000  | 0.00000000 |\n",
       "| 5          | dwt        | la8        | dtw        | 1.0000000  | 0.00000000 |\n",
       "| 5          | dwt        | haar       | erp        | 1.0000000  | 0.00000000 |\n",
       "| 5          | dwt        | la8        | erp        | 1.0000000  | 0.00000000 |\n",
       "| 1          | dwt        | haar       | erp        | 0.9905455  | 0.02868690 |\n",
       "| 1          | dwt        | la8        | erp        | 0.9905455  | 0.02868690 |\n",
       "| 3          | dwt        | haar       | erp        | 0.9905455  | 0.02868690 |\n",
       "| 3          | dwt        | la8        | erp        | 0.9905455  | 0.02868690 |\n",
       "| 3          | dwt        | haar       | euc        | 0.9900000  | 0.03030458 |\n",
       "| 3          | dwt        | la8        | euc        | 0.9900000  | 0.03030458 |\n",
       "| 3          | dwt        | haar       | manh       | 0.9900000  | 0.03030458 |\n",
       "| 3          | dwt        | la8        | manh       | 0.9900000  | 0.03030458 |\n",
       "| 5          | dwt        | haar       | euc        | 0.9900000  | 0.03030458 |\n",
       "| 5          | dwt        | la8        | euc        | 0.9900000  | 0.03030458 |\n",
       "| 5          | dwt        | haar       | manh       | 0.9712727  | 0.04877864 |\n",
       "| 5          | dwt        | la8        | manh       | 0.9712727  | 0.04877864 |\n",
       "| 1          | dwt        | haar       | euc        | 0.9709091  | 0.04495083 |\n",
       "| 1          | dwt        | la8        | euc        | 0.9709091  | 0.04495083 |\n",
       "| 1          | dwt        | haar       | manh       | 0.9709091  | 0.04495083 |\n",
       "| 1          | dwt        | la8        | manh       | 0.9709091  | 0.04495083 |\n",
       "| 5          | raw        | NA         | dtw        | 0.7441818  | 0.14090771 |\n",
       "| 5          | raw        | NA         | erp        | 0.7252727  | 0.13520585 |\n",
       "| 5          | tree       | 12         | manh       | 0.6965455  | 0.12301231 |\n",
       "| 5          | raw        | NA         | euc        | 0.6874545  | 0.13297446 |\n",
       "| 3          | raw        | NA         | dtw        | 0.6778182  | 0.14398797 |\n",
       "| 5          | tree       | 12         | erp        | 0.6778182  | 0.13845837 |\n",
       "| 5          | raw        | NA         | manh       | 0.6776364  | 0.12371396 |\n",
       "| 5          | tree       | 12         | euc        | 0.6774545  | 0.12529930 |\n",
       "| 5          | tree       | 6          | erp        | 0.6685455  | 0.13929696 |\n",
       "| 5          | tree       | 12         | dtw        | 0.6683636  | 0.13224121 |\n",
       "| 5          | tree       | 6          | euc        | 0.6585455  | 0.12901223 |\n",
       "| 1          | raw        | NA         | dtw        | 0.6580000  | 0.11608515 |\n",
       "| 3          | raw        | NA         | euc        | 0.6498182  | 0.13478042 |\n",
       "| 3          | raw        | NA         | manh       | 0.6490909  | 0.12518834 |\n",
       "| 5          | tree       | 6          | manh       | 0.6403636  | 0.14175680 |\n",
       "| 5          | tree       | 6          | dtw        | 0.6394545  | 0.12485931 |\n",
       "| 3          | tree       | 12         | erp        | 0.6394545  | 0.12457531 |\n",
       "| 3          | raw        | NA         | erp        | 0.6390909  | 0.11737630 |\n",
       "| 3          | tree       | 6          | erp        | 0.6303636  | 0.13150414 |\n",
       "| 3          | tree       | 12         | manh       | 0.6301818  | 0.12530200 |\n",
       "| 3          | tree       | 12         | dtw        | 0.6298182  | 0.14472265 |\n",
       "| 3          | tree       | 6          | dtw        | 0.6205455  | 0.13114710 |\n",
       "| 3          | tree       | 12         | euc        | 0.6116364  | 0.13001343 |\n",
       "| 3          | tree       | 6          | euc        | 0.6016364  | 0.13609361 |\n",
       "| 3          | tree       | 6          | manh       | 0.5829091  | 0.14670888 |\n",
       "| 1          | tree       | 12         | erp        | 0.5812727  | 0.11015881 |\n",
       "| 1          | tree       | 12         | dtw        | 0.5720000  | 0.13857624 |\n",
       "| 1          | raw        | NA         | erp        | 0.5718182  | 0.14367241 |\n",
       "| 1          | tree       | 6          | erp        | 0.5532727  | 0.13055676 |\n",
       "| 1          | tree       | 12         | manh       | 0.5530909  | 0.14161634 |\n",
       "| 1          | tree       | 12         | euc        | 0.5525455  | 0.13347326 |\n",
       "| 1          | tree       | 6          | dtw        | 0.5432727  | 0.12022018 |\n",
       "| 1          | tree       | 6          | euc        | 0.5345455  | 0.14902845 |\n",
       "| 1          | tree       | 6          | manh       | 0.5341818  | 0.13669792 |\n",
       "| 1          | raw        | NA         | euc        | 0.4960000  | 0.17325045 |\n",
       "| 1          | raw        | NA         | manh       | 0.4863636  | 0.16052757 |\n",
       "\n"
      ],
      "text/plain": [
       "   kNNValue representation parameter dist meanACC   sdACC     \n",
       "1  1        dwt            haar      dtw  1.0000000 0.00000000\n",
       "2  1        dwt            la8       dtw  1.0000000 0.00000000\n",
       "3  3        dwt            haar      dtw  1.0000000 0.00000000\n",
       "4  3        dwt            la8       dtw  1.0000000 0.00000000\n",
       "5  5        dwt            haar      dtw  1.0000000 0.00000000\n",
       "6  5        dwt            la8       dtw  1.0000000 0.00000000\n",
       "7  5        dwt            haar      erp  1.0000000 0.00000000\n",
       "8  5        dwt            la8       erp  1.0000000 0.00000000\n",
       "9  1        dwt            haar      erp  0.9905455 0.02868690\n",
       "10 1        dwt            la8       erp  0.9905455 0.02868690\n",
       "11 3        dwt            haar      erp  0.9905455 0.02868690\n",
       "12 3        dwt            la8       erp  0.9905455 0.02868690\n",
       "13 3        dwt            haar      euc  0.9900000 0.03030458\n",
       "14 3        dwt            la8       euc  0.9900000 0.03030458\n",
       "15 3        dwt            haar      manh 0.9900000 0.03030458\n",
       "16 3        dwt            la8       manh 0.9900000 0.03030458\n",
       "17 5        dwt            haar      euc  0.9900000 0.03030458\n",
       "18 5        dwt            la8       euc  0.9900000 0.03030458\n",
       "19 5        dwt            haar      manh 0.9712727 0.04877864\n",
       "20 5        dwt            la8       manh 0.9712727 0.04877864\n",
       "21 1        dwt            haar      euc  0.9709091 0.04495083\n",
       "22 1        dwt            la8       euc  0.9709091 0.04495083\n",
       "23 1        dwt            haar      manh 0.9709091 0.04495083\n",
       "24 1        dwt            la8       manh 0.9709091 0.04495083\n",
       "25 5        raw            NA        dtw  0.7441818 0.14090771\n",
       "26 5        raw            NA        erp  0.7252727 0.13520585\n",
       "27 5        tree           12        manh 0.6965455 0.12301231\n",
       "28 5        raw            NA        euc  0.6874545 0.13297446\n",
       "29 3        raw            NA        dtw  0.6778182 0.14398797\n",
       "30 5        tree           12        erp  0.6778182 0.13845837\n",
       "31 5        raw            NA        manh 0.6776364 0.12371396\n",
       "32 5        tree           12        euc  0.6774545 0.12529930\n",
       "33 5        tree           6         erp  0.6685455 0.13929696\n",
       "34 5        tree           12        dtw  0.6683636 0.13224121\n",
       "35 5        tree           6         euc  0.6585455 0.12901223\n",
       "36 1        raw            NA        dtw  0.6580000 0.11608515\n",
       "37 3        raw            NA        euc  0.6498182 0.13478042\n",
       "38 3        raw            NA        manh 0.6490909 0.12518834\n",
       "39 5        tree           6         manh 0.6403636 0.14175680\n",
       "40 5        tree           6         dtw  0.6394545 0.12485931\n",
       "41 3        tree           12        erp  0.6394545 0.12457531\n",
       "42 3        raw            NA        erp  0.6390909 0.11737630\n",
       "43 3        tree           6         erp  0.6303636 0.13150414\n",
       "44 3        tree           12        manh 0.6301818 0.12530200\n",
       "45 3        tree           12        dtw  0.6298182 0.14472265\n",
       "46 3        tree           6         dtw  0.6205455 0.13114710\n",
       "47 3        tree           12        euc  0.6116364 0.13001343\n",
       "48 3        tree           6         euc  0.6016364 0.13609361\n",
       "49 3        tree           6         manh 0.5829091 0.14670888\n",
       "50 1        tree           12        erp  0.5812727 0.11015881\n",
       "51 1        tree           12        dtw  0.5720000 0.13857624\n",
       "52 1        raw            NA        erp  0.5718182 0.14367241\n",
       "53 1        tree           6         erp  0.5532727 0.13055676\n",
       "54 1        tree           12        manh 0.5530909 0.14161634\n",
       "55 1        tree           12        euc  0.5525455 0.13347326\n",
       "56 1        tree           6         dtw  0.5432727 0.12022018\n",
       "57 1        tree           6         euc  0.5345455 0.14902845\n",
       "58 1        tree           6         manh 0.5341818 0.13669792\n",
       "59 1        raw            NA        euc  0.4960000 0.17325045\n",
       "60 1        raw            NA        manh 0.4863636 0.16052757"
      ]
     },
     "metadata": {},
     "output_type": "display_data"
    }
   ],
   "source": [
    "#running the algorithm\n",
    "dt5_reprTable <- alternativeComparisonFunc(kVector, dt5_long, dt5_classes, cv_indices5, nof_rep, n_fold)\n",
    "dt5_reprTable[order(meanACC, decreasing=T)]"
   ]
  },
  {
   "cell_type": "markdown",
   "id": "british-verification",
   "metadata": {},
   "source": [
    "There are 8 different combinations of dwt and distance measurements that have the accuracy value of 1. Any of them can be used to represent the dataset. Again, the best results were obtained by discrete wavelet transform representation.  "
   ]
  },
  {
   "cell_type": "markdown",
   "id": "julian-statistics",
   "metadata": {},
   "source": [
    " "
   ]
  },
  {
   "cell_type": "markdown",
   "id": "popular-controversy",
   "metadata": {},
   "source": [
    " "
   ]
  },
  {
   "cell_type": "markdown",
   "id": "infectious-chuck",
   "metadata": {},
   "source": [
    "# Conclusion"
   ]
  },
  {
   "cell_type": "markdown",
   "id": "metropolitan-filter",
   "metadata": {},
   "source": [
    "5 different datasets were chosen to be classify by three different representations using 4 different distance measurements in this assignment. Raw time series observations, nonlinear regression trees, and discrete wavelet transforms were the representation approaches. As distance measurements, euclidean distance, manhattan distance, dynamic time warping distance, and edit distance with real penalty were used. Also, three different k values of KNN approach were used under 5-repeats and 10-folds cross validation.  \n",
    "  \n",
    "In general, DWT was the best representation approach no matter what the distance measurement was. It reached 100% accuracy for some datasets. Although we could not obtain a good result for the colposcopy set, the models used for representations worked well for other sets.  "
   ]
  }
 ],
 "metadata": {
  "kernelspec": {
   "display_name": "R",
   "language": "R",
   "name": "ir"
  },
  "language_info": {
   "codemirror_mode": "r",
   "file_extension": ".r",
   "mimetype": "text/x-r-source",
   "name": "R",
   "pygments_lexer": "r",
   "version": "3.6.1"
  }
 },
 "nbformat": 4,
 "nbformat_minor": 5
}
